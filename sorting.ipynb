{
  "cells": [
    {
      "cell_type": "markdown",
      "metadata": {
        "id": "view-in-github",
        "colab_type": "text"
      },
      "source": [
        "<a href=\"https://colab.research.google.com/github/omercahit/sorting_hw/blob/main/sorting.ipynb\" target=\"_parent\"><img src=\"https://colab.research.google.com/assets/colab-badge.svg\" alt=\"Open In Colab\"/></a>"
      ]
    },
    {
      "cell_type": "markdown",
      "source": [
        "##Initial definitions"
      ],
      "metadata": {
        "id": "AV4gaJZ4CRN0"
      }
    },
    {
      "cell_type": "code",
      "execution_count": 2,
      "metadata": {
        "id": "k8vMuWXPO_kI"
      },
      "outputs": [],
      "source": [
        "import numpy as np"
      ]
    },
    {
      "cell_type": "code",
      "execution_count": 3,
      "metadata": {
        "id": "A9xj5k9GO_kM"
      },
      "outputs": [],
      "source": [
        "random101 = np.random.randint(10**1, size = (10**1))\n",
        "random102 = np.random.randint(10**2, size = (10**2))\n",
        "random103 = np.random.randint(10**3, size = (10**3))\n",
        "random104 = np.random.randint(10**4, size = (10**4))\n",
        "random105 = np.random.randint(10**5, size = (10**5))"
      ]
    },
    {
      "cell_type": "code",
      "execution_count": 4,
      "metadata": {
        "id": "MpDzquoYO_kM"
      },
      "outputs": [],
      "source": [
        "fsorted101 = np.arange(0,10**1)\n",
        "fsorted102 = np.arange(0,10**2)\n",
        "fsorted103 = np.arange(0,10**3)\n",
        "fsorted104 = np.arange(0,10**4)\n",
        "fsorted105 = np.arange(0,10**5)"
      ]
    },
    {
      "cell_type": "code",
      "execution_count": 5,
      "metadata": {
        "id": "qFQ4VW4IO_kN"
      },
      "outputs": [],
      "source": [
        "rsorted101 = np.arange(0,10**1)[::-1]\n",
        "rsorted102 = np.arange(0,10**2)[::-1]\n",
        "rsorted103 = np.arange(0,10**3)[::-1]\n",
        "rsorted104 = np.arange(0,10**4)[::-1]\n",
        "rsorted105 = np.arange(0,10**5)[::-1]"
      ]
    },
    {
      "cell_type": "code",
      "execution_count": 6,
      "metadata": {
        "id": "Q4DsJi08O_kN"
      },
      "outputs": [],
      "source": [
        "psorted101 = np.concatenate((np.arange(0,(10**1-10**0)), np.random.randint(10**1, size = 10**0)))\n",
        "psorted102 = np.concatenate((np.arange(0,(10**2-10**1)), np.random.randint(10**2, size = 10**1)))\n",
        "psorted103 = np.concatenate((np.arange(0,(10**3-10**2)), np.random.randint(10**3, size = 10**2)))\n",
        "psorted104 = np.concatenate((np.arange(0,(10**4-10**3)), np.random.randint(10**4, size = 10**3)))\n",
        "psorted105 = np.concatenate((np.arange(0,(10**5-10**4)), np.random.randint(10**5, size = 10**4)))"
      ]
    },
    {
      "cell_type": "code",
      "execution_count": 7,
      "metadata": {
        "id": "y8F_CMicO_kO"
      },
      "outputs": [],
      "source": [
        "def bubbleSort(arr):\n",
        "    n = len(arr)\n",
        "\n",
        "    # Traverse through all array elements\n",
        "    for i in range(n):\n",
        "        swapped = False\n",
        "\n",
        "        # Last i elements are already in place\n",
        "        for j in range(0, n-i-1):\n",
        "\n",
        "            # Traverse the array from 0 to n-i-1\n",
        "            # Swap if the element found is greater\n",
        "            # than the next element\n",
        "            if arr[j] > arr[j+1]:\n",
        "                arr[j], arr[j+1] = arr[j+1], arr[j]\n",
        "                swapped = True\n",
        "        if (swapped == False):\n",
        "            break\n",
        "\n",
        "def insertionSort(arr):\n",
        "\n",
        "    # Traverse through 1 to len(arr)\n",
        "    for i in range(1, len(arr)):\n",
        "\n",
        "        key = arr[i]\n",
        "\n",
        "        # Move elements of arr[0..i-1], that are\n",
        "        # greater than key, to one position ahead\n",
        "        # of their current position\n",
        "        j = i-1\n",
        "        while j >= 0 and key < arr[j] :\n",
        "                arr[j + 1] = arr[j]\n",
        "                j -= 1\n",
        "        arr[j + 1] = key\n",
        "\n",
        "def partition(array, low, high):\n",
        "\n",
        "    # Choose the rightmost element as pivot\n",
        "    pivot = array[high]\n",
        "\n",
        "    # Pointer for greater element\n",
        "    i = low - 1\n",
        "\n",
        "    # Traverse through all elements\n",
        "    # compare each element with pivot\n",
        "    for j in range(low, high):\n",
        "        if array[j] <= pivot:\n",
        "\n",
        "            # If element smaller than pivot is found\n",
        "            # swap it with the greater element pointed by i\n",
        "            i = i + 1\n",
        "\n",
        "            # Swapping element at i with element at j\n",
        "            (array[i], array[j]) = (array[j], array[i])\n",
        "\n",
        "    # Swap the pivot element with\n",
        "    # the greater element specified by i\n",
        "    (array[i + 1], array[high]) = (array[high], array[i + 1])\n",
        "\n",
        "    # Return the position from where partition is done\n",
        "    return i + 1\n",
        "\n",
        "def quicksort(array, low, high):\n",
        "    if low < high:\n",
        "\n",
        "        # Find pivot element such that\n",
        "        # element smaller than pivot are on the left\n",
        "        # element greater than pivot are on the right\n",
        "        pi = partition(array, low, high)\n",
        "\n",
        "        # Recursive call on the left of pivot\n",
        "        quicksort(array, low, pi - 1)\n",
        "\n",
        "        # Recursive call on the right of pivot\n",
        "        quicksort(array, pi + 1, high)"
      ]
    },
    {
      "cell_type": "markdown",
      "metadata": {
        "id": "_YeGEkUNO_kO"
      },
      "source": [
        "## Sorting of 10^1 sized arrays"
      ]
    },
    {
      "cell_type": "code",
      "execution_count": null,
      "metadata": {
        "colab": {
          "base_uri": "https://localhost:8080/"
        },
        "id": "hCj8rBj4O_kQ",
        "outputId": "584088a5-4d61-4baf-cc2a-d5828b493d87"
      },
      "outputs": [
        {
          "output_type": "stream",
          "name": "stdout",
          "text": [
            "Random:  [0 1 9 3 8 5 7 7 3 7] \n",
            "\n",
            "2.52 µs ± 91.9 ns per loop (mean ± std. dev. of 7 runs, 100000 loops each)\n",
            "Bubble Sorted:  [0 1 3 3 5 7 7 7 8 9] \n",
            "\n",
            "3.41 µs ± 70.7 ns per loop (mean ± std. dev. of 7 runs, 100000 loops each)\n",
            "Insertion Sorted:  [0 1 3 3 5 7 7 7 8 9] \n",
            "\n",
            "50.2 µs ± 10.4 µs per loop (mean ± std. dev. of 7 runs, 10000 loops each)\n",
            "Quick Sorted:  [0 1 3 3 5 7 7 7 8 9]\n"
          ]
        }
      ],
      "source": [
        "print(\"Random: \", random101, \"\\n\")\n",
        "\n",
        "arr = random101.copy()\n",
        "%timeit bubbleSort(arr)\n",
        "print(\"Bubble Sorted: \", arr, \"\\n\")\n",
        "\n",
        "arr = random101.copy()\n",
        "%timeit insertionSort(arr)\n",
        "print(\"Insertion Sorted: \", arr, \"\\n\")\n",
        "\n",
        "arr = random101.copy()\n",
        "%timeit quicksort(arr, 0, len(arr) - 1)\n",
        "print(\"Quick Sorted: \", arr)"
      ]
    },
    {
      "cell_type": "code",
      "execution_count": null,
      "metadata": {
        "colab": {
          "base_uri": "https://localhost:8080/"
        },
        "id": "gXHUDZy6O_kR",
        "outputId": "a8e89aad-983a-48a6-9462-793aeb612098"
      },
      "outputs": [
        {
          "output_type": "stream",
          "name": "stdout",
          "text": [
            "Fully Sorted:  [0 1 2 3 4 5 6 7 8 9] \n",
            "\n",
            "2.9 µs ± 102 ns per loop (mean ± std. dev. of 7 runs, 100000 loops each)\n",
            "Bubble Sorted:  [0 1 2 3 4 5 6 7 8 9] \n",
            "\n",
            "3.97 µs ± 81.6 ns per loop (mean ± std. dev. of 7 runs, 100000 loops each)\n",
            "Insertion Sorted:  [0 1 2 3 4 5 6 7 8 9] \n",
            "\n",
            "55.1 µs ± 14.2 µs per loop (mean ± std. dev. of 7 runs, 10000 loops each)\n",
            "Quick Sorted:  [0 1 2 3 4 5 6 7 8 9]\n"
          ]
        }
      ],
      "source": [
        "print(\"Fully Sorted: \", fsorted101, \"\\n\")\n",
        "\n",
        "arr = fsorted101.copy()\n",
        "%timeit bubbleSort(arr)\n",
        "print(\"Bubble Sorted: \", arr, \"\\n\")\n",
        "\n",
        "arr = fsorted101.copy()\n",
        "%timeit insertionSort(arr)\n",
        "print(\"Insertion Sorted: \", arr, \"\\n\")\n",
        "\n",
        "arr = fsorted101.copy()\n",
        "%timeit quicksort(arr, 0, len(arr) - 1)\n",
        "print(\"Quick Sorted: \", arr)"
      ]
    },
    {
      "cell_type": "code",
      "execution_count": null,
      "metadata": {
        "colab": {
          "base_uri": "https://localhost:8080/"
        },
        "id": "2QKqe1JkO_kR",
        "outputId": "3f4c1624-f61f-435b-b52a-326820dd0d46"
      },
      "outputs": [
        {
          "output_type": "stream",
          "name": "stdout",
          "text": [
            "Reverse Sorted:  [9 8 7 6 5 4 3 2 1 0] \n",
            "\n",
            "2.89 µs ± 86.6 ns per loop (mean ± std. dev. of 7 runs, 100000 loops each)\n",
            "Bubble Sorted:  [0 1 2 3 4 5 6 7 8 9] \n",
            "\n",
            "3.96 µs ± 63.1 ns per loop (mean ± std. dev. of 7 runs, 100000 loops each)\n",
            "Insertion Sorted:  [0 1 2 3 4 5 6 7 8 9] \n",
            "\n",
            "34.4 µs ± 517 ns per loop (mean ± std. dev. of 7 runs, 10000 loops each)\n",
            "Quick Sorted:  [0 1 2 3 4 5 6 7 8 9]\n"
          ]
        }
      ],
      "source": [
        "print(\"Reverse Sorted: \", rsorted101, \"\\n\")\n",
        "\n",
        "arr = rsorted101.copy()\n",
        "%timeit bubbleSort(arr)\n",
        "print(\"Bubble Sorted: \", arr, \"\\n\")\n",
        "\n",
        "arr = rsorted101.copy()\n",
        "%timeit insertionSort(arr)\n",
        "print(\"Insertion Sorted: \", arr, \"\\n\")\n",
        "\n",
        "arr = rsorted101.copy()\n",
        "%timeit quicksort(arr, 0, len(arr) - 1)\n",
        "print(\"Quick Sorted: \", arr)"
      ]
    },
    {
      "cell_type": "code",
      "execution_count": null,
      "metadata": {
        "colab": {
          "base_uri": "https://localhost:8080/"
        },
        "id": "wqWfcaauO_kS",
        "outputId": "50800f66-e3af-42ef-a96a-79ea3a31121a"
      },
      "outputs": [
        {
          "output_type": "stream",
          "name": "stdout",
          "text": [
            "Partially Sorted:  [0 1 2 3 4 5 6 7 8 8] \n",
            "\n",
            "3.43 µs ± 992 ns per loop (mean ± std. dev. of 7 runs, 100000 loops each)\n",
            "Bubble Sorted:  [0 1 2 3 4 5 6 7 8 8] \n",
            "\n",
            "5.18 µs ± 1.63 µs per loop (mean ± std. dev. of 7 runs, 100000 loops each)\n",
            "Insertion Sorted:  [0 1 2 3 4 5 6 7 8 8] \n",
            "\n",
            "34.2 µs ± 588 ns per loop (mean ± std. dev. of 7 runs, 10000 loops each)\n",
            "Quick Sorted:  [0 1 2 3 4 5 6 7 8 8]\n"
          ]
        }
      ],
      "source": [
        "print(\"Partially Sorted: \", psorted101, \"\\n\")\n",
        "\n",
        "arr = psorted101.copy()\n",
        "%timeit bubbleSort(arr)\n",
        "print(\"Bubble Sorted: \", arr, \"\\n\")\n",
        "\n",
        "arr = psorted101.copy()\n",
        "%timeit insertionSort(arr)\n",
        "print(\"Insertion Sorted: \", arr, \"\\n\")\n",
        "\n",
        "arr = psorted101.copy()\n",
        "%timeit quicksort(arr, 0, len(arr) - 1)\n",
        "print(\"Quick Sorted: \", arr)"
      ]
    },
    {
      "cell_type": "markdown",
      "metadata": {
        "id": "LR7-W4bgO_kS"
      },
      "source": [
        "## Sorting of 10^2 sized arrays"
      ]
    },
    {
      "cell_type": "code",
      "execution_count": null,
      "metadata": {
        "colab": {
          "base_uri": "https://localhost:8080/"
        },
        "id": "xdei-1mJO_kS",
        "outputId": "a1787e5a-d67c-4070-b83d-0f03778e4184"
      },
      "outputs": [
        {
          "output_type": "stream",
          "name": "stdout",
          "text": [
            "26.1 µs ± 632 ns per loop (mean ± std. dev. of 7 runs, 10000 loops each)\n",
            "40.4 µs ± 1.24 µs per loop (mean ± std. dev. of 7 runs, 10000 loops each)\n",
            "4.78 ms ± 1.02 ms per loop (mean ± std. dev. of 7 runs, 100 loops each)\n"
          ]
        }
      ],
      "source": [
        "#print(\"Random: \", random102, \"\\n\")\n",
        "\n",
        "arr = random102.copy()\n",
        "%timeit bubbleSort(arr)\n",
        "#print(\"Bubble Sorted: \", arr, \"\\n\")\n",
        "\n",
        "arr = random102.copy()\n",
        "%timeit insertionSort(arr)\n",
        "#print(\"Insertion Sorted: \", arr, \"\\n\")\n",
        "\n",
        "arr = random102.copy()\n",
        "%timeit quicksort(arr, 0, len(arr) - 1)\n",
        "#print(\"Quick Sorted: \", arr)"
      ]
    },
    {
      "cell_type": "code",
      "execution_count": null,
      "metadata": {
        "colab": {
          "base_uri": "https://localhost:8080/"
        },
        "id": "aLn-LHS8O_kT",
        "outputId": "c8a6730f-63a3-47aa-8d71-3799f87fe852"
      },
      "outputs": [
        {
          "output_type": "stream",
          "name": "stdout",
          "text": [
            "26.1 µs ± 759 ns per loop (mean ± std. dev. of 7 runs, 10000 loops each)\n",
            "40.4 µs ± 880 ns per loop (mean ± std. dev. of 7 runs, 10000 loops each)\n",
            "2.79 ms ± 53.8 µs per loop (mean ± std. dev. of 7 runs, 100 loops each)\n"
          ]
        }
      ],
      "source": [
        "#print(\"Fully Sorted: \", fsorted102, \"\\n\")\n",
        "\n",
        "arr = fsorted102.copy()\n",
        "%timeit bubbleSort(arr)\n",
        "#print(\"Bubble Sorted: \", arr, \"\\n\")\n",
        "\n",
        "arr = fsorted102.copy()\n",
        "%timeit insertionSort(arr)\n",
        "#print(\"Insertion Sorted: \", arr, \"\\n\")\n",
        "\n",
        "arr = fsorted102.copy()\n",
        "%timeit quicksort(arr, 0, len(arr) - 1)\n",
        "#print(\"Quick Sorted: \", arr)"
      ]
    },
    {
      "cell_type": "code",
      "execution_count": null,
      "metadata": {
        "colab": {
          "base_uri": "https://localhost:8080/"
        },
        "id": "xlUsw_kjO_kT",
        "outputId": "b9d324b6-0fd1-47eb-d984-d01755298da4"
      },
      "outputs": [
        {
          "output_type": "stream",
          "name": "stdout",
          "text": [
            "28.7 µs ± 6.34 µs per loop (mean ± std. dev. of 7 runs, 10000 loops each)\n",
            "56.2 µs ± 18.5 µs per loop (mean ± std. dev. of 7 runs, 10000 loops each)\n",
            "2.75 ms ± 56 µs per loop (mean ± std. dev. of 7 runs, 100 loops each)\n"
          ]
        }
      ],
      "source": [
        "#print(\"Reverse Sorted: \", rsorted102, \"\\n\")\n",
        "\n",
        "arr = rsorted102.copy()\n",
        "%timeit bubbleSort(arr)\n",
        "#print(\"Bubble Sorted: \", arr, \"\\n\")\n",
        "\n",
        "arr = rsorted102.copy()\n",
        "%timeit insertionSort(arr)\n",
        "#print(\"Insertion Sorted: \", arr, \"\\n\")\n",
        "\n",
        "arr = rsorted102.copy()\n",
        "%timeit quicksort(arr, 0, len(arr) - 1)\n",
        "#print(\"Quick Sorted: \", arr)"
      ]
    },
    {
      "cell_type": "code",
      "execution_count": null,
      "metadata": {
        "colab": {
          "base_uri": "https://localhost:8080/"
        },
        "id": "z4pjB4ojO_kT",
        "outputId": "05a4e6d2-2efb-44b5-8807-9d172584691d"
      },
      "outputs": [
        {
          "output_type": "stream",
          "name": "stdout",
          "text": [
            "26.1 µs ± 821 ns per loop (mean ± std. dev. of 7 runs, 10000 loops each)\n",
            "40.2 µs ± 689 ns per loop (mean ± std. dev. of 7 runs, 10000 loops each)\n",
            "4.77 ms ± 965 µs per loop (mean ± std. dev. of 7 runs, 100 loops each)\n"
          ]
        }
      ],
      "source": [
        "#print(\"Partially Sorted: \", psorted102, \"\\n\")\n",
        "\n",
        "arr = psorted102.copy()\n",
        "%timeit bubbleSort(arr)\n",
        "#print(\"Bubble Sorted: \", arr, \"\\n\")\n",
        "\n",
        "arr = psorted102.copy()\n",
        "%timeit insertionSort(arr)\n",
        "#print(\"Insertion Sorted: \", arr, \"\\n\")\n",
        "\n",
        "arr = psorted102.copy()\n",
        "%timeit quicksort(arr, 0, len(arr) - 1)\n",
        "#print(\"Quick Sorted: \", arr)"
      ]
    },
    {
      "cell_type": "markdown",
      "metadata": {
        "id": "TSnO6w4YO_kT"
      },
      "source": [
        "## Sorting of 10^3 sized arrays"
      ]
    },
    {
      "cell_type": "code",
      "execution_count": null,
      "metadata": {
        "colab": {
          "base_uri": "https://localhost:8080/"
        },
        "id": "yNY895DeO_kU",
        "outputId": "d38f607f-b664-4105-a7a5-cafe16e62b2e"
      },
      "outputs": [
        {
          "output_type": "stream",
          "name": "stdout",
          "text": [
            "250 µs ± 4.53 µs per loop (mean ± std. dev. of 7 runs, 1 loop each)\n",
            "639 µs ± 192 µs per loop (mean ± std. dev. of 7 runs, 1000 loops each)\n",
            "315 ms ± 40.8 ms per loop (mean ± std. dev. of 7 runs, 10 loops each)\n"
          ]
        }
      ],
      "source": [
        "import sys\n",
        "sys.setrecursionlimit(1500)\n",
        "\n",
        "#print(\"Random: \", random103, \"\\n\")\n",
        "\n",
        "arr = random103.copy()\n",
        "%timeit bubbleSort(arr)\n",
        "#print(\"Bubble Sorted: \", arr, \"\\n\")\n",
        "\n",
        "arr = random103.copy()\n",
        "%timeit insertionSort(arr)\n",
        "#print(\"Insertion Sorted: \", arr, \"\\n\")\n",
        "\n",
        "arr = random103.copy()\n",
        "%timeit quicksort(arr, 0, len(arr) - 1)\n",
        "#print(\"Quick Sorted: \", arr)"
      ]
    },
    {
      "cell_type": "code",
      "execution_count": null,
      "metadata": {
        "colab": {
          "base_uri": "https://localhost:8080/"
        },
        "id": "tOeUTNC7O_kU",
        "outputId": "99b7eb29-c152-4d7d-bd4f-c9242e9685dc"
      },
      "outputs": [
        {
          "output_type": "stream",
          "name": "stdout",
          "text": [
            "428 µs ± 129 µs per loop (mean ± std. dev. of 7 runs, 1000 loops each)\n",
            "469 µs ± 62.1 µs per loop (mean ± std. dev. of 7 runs, 1000 loops each)\n",
            "284 ms ± 7.91 ms per loop (mean ± std. dev. of 7 runs, 1 loop each)\n"
          ]
        }
      ],
      "source": [
        "#print(\"Fully Sorted: \", fsorted103, \"\\n\")\n",
        "\n",
        "arr = fsorted103.copy()\n",
        "%timeit bubbleSort(arr)\n",
        "#print(\"Bubble Sorted: \", arr, \"\\n\")\n",
        "\n",
        "arr = fsorted103.copy()\n",
        "%timeit insertionSort(arr)\n",
        "#print(\"Insertion Sorted: \", arr, \"\\n\")\n",
        "\n",
        "arr = fsorted103.copy()\n",
        "%timeit quicksort(arr, 0, len(arr) - 1)\n",
        "#print(\"Quick Sorted: \", arr)"
      ]
    },
    {
      "cell_type": "code",
      "execution_count": null,
      "metadata": {
        "colab": {
          "base_uri": "https://localhost:8080/"
        },
        "id": "63mUZPDjO_kU",
        "outputId": "5954e2b1-5cba-4220-ef0c-b6ea288f75d4"
      },
      "outputs": [
        {
          "output_type": "stream",
          "name": "stdout",
          "text": [
            "251 µs ± 4.66 µs per loop (mean ± std. dev. of 7 runs, 1 loop each)\n",
            "452 µs ± 11.3 µs per loop (mean ± std. dev. of 7 runs, 1000 loops each)\n",
            "305 ms ± 59.9 ms per loop (mean ± std. dev. of 7 runs, 10 loops each)\n"
          ]
        }
      ],
      "source": [
        "#print(\"Reverse Sorted: \", rsorted103, \"\\n\")\n",
        "\n",
        "arr = rsorted103.copy()\n",
        "%timeit bubbleSort(arr)\n",
        "#print(\"Bubble Sorted: \", arr, \"\\n\")\n",
        "\n",
        "arr = rsorted103.copy()\n",
        "%timeit insertionSort(arr)\n",
        "#print(\"Insertion Sorted: \", arr, \"\\n\")\n",
        "\n",
        "arr = rsorted103.copy()\n",
        "%timeit quicksort(arr, 0, len(arr) - 1)\n",
        "#print(\"Quick Sorted: \", arr)"
      ]
    },
    {
      "cell_type": "code",
      "execution_count": null,
      "metadata": {
        "colab": {
          "base_uri": "https://localhost:8080/"
        },
        "id": "2gnR6aalO_kV",
        "outputId": "42128f35-ef2c-474c-a5e9-ef64d322eb98"
      },
      "outputs": [
        {
          "output_type": "stream",
          "name": "stdout",
          "text": [
            "367 µs ± 122 µs per loop (mean ± std. dev. of 7 runs, 1000 loops each)\n",
            "532 µs ± 149 µs per loop (mean ± std. dev. of 7 runs, 1000 loops each)\n",
            "331 ms ± 52.2 ms per loop (mean ± std. dev. of 7 runs, 10 loops each)\n"
          ]
        }
      ],
      "source": [
        "#print(\"Partially Sorted: \", psorted103, \"\\n\")\n",
        "\n",
        "arr = psorted103.copy()\n",
        "%timeit bubbleSort(arr)\n",
        "#print(\"Bubble Sorted: \", arr, \"\\n\")\n",
        "\n",
        "arr = psorted103.copy()\n",
        "%timeit insertionSort(arr)\n",
        "#print(\"Insertion Sorted: \", arr, \"\\n\")\n",
        "\n",
        "arr = psorted103.copy()\n",
        "%timeit quicksort(arr, 0, len(arr) - 1)\n",
        "#print(\"Quick Sorted: \", arr)"
      ]
    },
    {
      "cell_type": "markdown",
      "metadata": {
        "id": "qCFbSGwNO_kV"
      },
      "source": [
        "## Sorting of 10^4 sized arrays"
      ]
    },
    {
      "cell_type": "code",
      "execution_count": 1,
      "metadata": {
        "colab": {
          "base_uri": "https://localhost:8080/",
          "height": 245
        },
        "id": "9LMED_lMO_kV",
        "outputId": "84f153cd-feb5-4334-f85e-3014490cc5fc"
      },
      "outputs": [
        {
          "output_type": "error",
          "ename": "NameError",
          "evalue": "ignored",
          "traceback": [
            "\u001b[0;31m---------------------------------------------------------------------------\u001b[0m",
            "\u001b[0;31mNameError\u001b[0m                                 Traceback (most recent call last)",
            "\u001b[0;32m<ipython-input-1-5ba42f0da78a>\u001b[0m in \u001b[0;36m<cell line: 7>\u001b[0;34m()\u001b[0m\n\u001b[1;32m      5\u001b[0m \u001b[0;31m#print(\"Random: \", random104, \"\\n\")\u001b[0m\u001b[0;34m\u001b[0m\u001b[0;34m\u001b[0m\u001b[0m\n\u001b[1;32m      6\u001b[0m \u001b[0;34m\u001b[0m\u001b[0m\n\u001b[0;32m----> 7\u001b[0;31m \u001b[0marr\u001b[0m \u001b[0;34m=\u001b[0m \u001b[0mrandom104\u001b[0m\u001b[0;34m.\u001b[0m\u001b[0mcopy\u001b[0m\u001b[0;34m(\u001b[0m\u001b[0;34m)\u001b[0m\u001b[0;34m\u001b[0m\u001b[0;34m\u001b[0m\u001b[0m\n\u001b[0m\u001b[1;32m      8\u001b[0m \u001b[0mget_ipython\u001b[0m\u001b[0;34m(\u001b[0m\u001b[0;34m)\u001b[0m\u001b[0;34m.\u001b[0m\u001b[0mrun_line_magic\u001b[0m\u001b[0;34m(\u001b[0m\u001b[0;34m'timeit'\u001b[0m\u001b[0;34m,\u001b[0m \u001b[0;34m'bubbleSort(arr)'\u001b[0m\u001b[0;34m)\u001b[0m\u001b[0;34m\u001b[0m\u001b[0;34m\u001b[0m\u001b[0m\n\u001b[1;32m      9\u001b[0m \u001b[0;31m#print(\"Bubble Sorted: \", arr, \"\\n\")\u001b[0m\u001b[0;34m\u001b[0m\u001b[0;34m\u001b[0m\u001b[0m\n",
            "\u001b[0;31mNameError\u001b[0m: name 'random104' is not defined"
          ]
        }
      ],
      "source": [
        "import resource, sys\n",
        "resource.setrlimit(resource.RLIMIT_STACK, (2**29,-1))\n",
        "sys.setrecursionlimit(10**6)\n",
        "\n",
        "#print(\"Random: \", random104, \"\\n\")\n",
        "\n",
        "arr = random104.copy()\n",
        "%timeit bubbleSort(arr)\n",
        "#print(\"Bubble Sorted: \", arr, \"\\n\")\n",
        "\n",
        "arr = random104.copy()\n",
        "%timeit insertionSort(arr)\n",
        "#print(\"Insertion Sorted: \", arr, \"\\n\")\n",
        "\n",
        "arr = random104.copy()\n",
        "%timeit quicksort(arr, 0, len(arr) - 1)\n",
        "#print(\"Quick Sorted: \", arr)"
      ]
    },
    {
      "cell_type": "code",
      "execution_count": null,
      "metadata": {
        "id": "Qc2oO4sDO_kV"
      },
      "outputs": [],
      "source": [
        "#print(\"Fully Sorted: \", fsorted104, \"\\n\")\n",
        "\n",
        "arr = fsorted104.copy()\n",
        "%timeit bubbleSort(arr)\n",
        "#print(\"Bubble Sorted: \", arr, \"\\n\")\n",
        "\n",
        "arr = fsorted104.copy()\n",
        "%timeit insertionSort(arr)\n",
        "#print(\"Insertion Sorted: \", arr, \"\\n\")\n",
        "\n",
        "arr = fsorted104.copy()\n",
        "%timeit quicksort(arr, 0, len(arr) - 1)\n",
        "#print(\"Quick Sorted: \", arr)"
      ]
    },
    {
      "cell_type": "code",
      "execution_count": null,
      "metadata": {
        "id": "xq3Gz6IzO_kV"
      },
      "outputs": [],
      "source": [
        "#print(\"Reverse Sorted: \", rsorted104, \"\\n\")\n",
        "\n",
        "arr = rsorted104.copy()\n",
        "%timeit bubbleSort(arr)\n",
        "#print(\"Bubble Sorted: \", arr, \"\\n\")\n",
        "\n",
        "arr = rsorted104.copy()\n",
        "%timeit insertionSort(arr)\n",
        "#print(\"Insertion Sorted: \", arr, \"\\n\")\n",
        "\n",
        "arr = rsorted104.copy()\n",
        "%timeit quicksort(arr, 0, len(arr) - 1)\n",
        "#print(\"Quick Sorted: \", arr)"
      ]
    },
    {
      "cell_type": "code",
      "execution_count": null,
      "metadata": {
        "id": "2pemu_XPO_kV"
      },
      "outputs": [],
      "source": [
        "#print(\"Partially Sorted: \", psorted104, \"\\n\")\n",
        "\n",
        "arr = psorted104.copy()\n",
        "%timeit bubbleSort(arr)\n",
        "#print(\"Bubble Sorted: \", arr, \"\\n\")\n",
        "\n",
        "arr = psorted104.copy()\n",
        "%timeit insertionSort(arr)\n",
        "#print(\"Insertion Sorted: \", arr, \"\\n\")\n",
        "\n",
        "arr = psorted104.copy()\n",
        "%timeit quicksort(arr, 0, len(arr) - 1)\n",
        "#print(\"Quick Sorted: \", arr)"
      ]
    },
    {
      "cell_type": "markdown",
      "metadata": {
        "id": "Uw-sIYxtO_kW"
      },
      "source": [
        "## Sorting of 10^5 sized arrays"
      ]
    },
    {
      "cell_type": "code",
      "execution_count": null,
      "metadata": {
        "id": "aEa34-FTO_kW"
      },
      "outputs": [],
      "source": [
        "#print(\"Random: \", random105, \"\\n\")\n",
        "\n",
        "arr = random105.copy()\n",
        "%timeit bubbleSort(arr)\n",
        "#print(\"Bubble Sorted: \", arr, \"\\n\")\n",
        "\n",
        "arr = random105.copy()\n",
        "%timeit insertionSort(arr)\n",
        "#print(\"Insertion Sorted: \", arr, \"\\n\")\n",
        "\n",
        "arr = random105.copy()\n",
        "%timeit quicksort(arr, 0, len(arr) - 1)\n",
        "#print(\"Quick Sorted: \", arr)"
      ]
    },
    {
      "cell_type": "code",
      "execution_count": null,
      "metadata": {
        "id": "KLgJMU6GO_kW"
      },
      "outputs": [],
      "source": [
        "#print(\"Fully Sorted: \", fsorted105, \"\\n\")\n",
        "\n",
        "arr = fsorted105.copy()\n",
        "%timeit bubbleSort(arr)\n",
        "#print(\"Bubble Sorted: \", arr, \"\\n\")\n",
        "\n",
        "arr = fsorted105.copy()\n",
        "%timeit insertionSort(arr)\n",
        "#print(\"Insertion Sorted: \", arr, \"\\n\")\n",
        "\n",
        "arr = fsorted105.copy()\n",
        "%timeit quicksort(arr, 0, len(arr) - 1)\n",
        "#print(\"Quick Sorted: \", arr)"
      ]
    },
    {
      "cell_type": "code",
      "execution_count": null,
      "metadata": {
        "id": "gWmoeprzO_kW"
      },
      "outputs": [],
      "source": [
        "#print(\"Reverse Sorted: \", rsorted105, \"\\n\")\n",
        "\n",
        "arr = rsorted105.copy()\n",
        "%timeit bubbleSort(arr)\n",
        "#print(\"Bubble Sorted: \", arr, \"\\n\")\n",
        "\n",
        "arr = rsorted105.copy()\n",
        "%timeit insertionSort(arr)\n",
        "#print(\"Insertion Sorted: \", arr, \"\\n\")\n",
        "\n",
        "arr = rsorted105.copy()\n",
        "%timeit quicksort(arr, 0, len(arr) - 1)\n",
        "#print(\"Quick Sorted: \", arr)"
      ]
    },
    {
      "cell_type": "code",
      "execution_count": null,
      "metadata": {
        "id": "1ovR1gBkO_kW"
      },
      "outputs": [],
      "source": [
        "#print(\"Partially Sorted: \", psorted105, \"\\n\")\n",
        "\n",
        "arr = psorted105.copy()\n",
        "%timeit bubbleSort(arr)\n",
        "#print(\"Bubble Sorted: \", arr, \"\\n\")\n",
        "\n",
        "arr = psorted105.copy()\n",
        "%timeit insertionSort(arr)\n",
        "#print(\"Insertion Sorted: \", arr, \"\\n\")\n",
        "\n",
        "arr = psorted105.copy()\n",
        "%timeit quicksort(arr, 0, len(arr) - 1)\n",
        "#print(\"Quick Sorted: \", arr)"
      ]
    },
    {
      "cell_type": "code",
      "execution_count": null,
      "metadata": {
        "id": "smfyifTJO_kW"
      },
      "outputs": [],
      "source": []
    }
  ],
  "metadata": {
    "kernelspec": {
      "display_name": "Python 3",
      "name": "python3"
    },
    "language_info": {
      "codemirror_mode": {
        "name": "ipython",
        "version": 3
      },
      "file_extension": ".py",
      "mimetype": "text/x-python",
      "name": "python",
      "nbconvert_exporter": "python",
      "pygments_lexer": "ipython3",
      "version": "3.11.3"
    },
    "colab": {
      "provenance": [],
      "toc_visible": true,
      "include_colab_link": true
    }
  },
  "nbformat": 4,
  "nbformat_minor": 0
}