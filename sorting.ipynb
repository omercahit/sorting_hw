{
  "cells": [
    {
      "cell_type": "markdown",
      "metadata": {
        "colab_type": "text",
        "id": "view-in-github"
      },
      "source": [
        "<a href=\"https://colab.research.google.com/github/omercahit/sorting_hw/blob/main/sorting.ipynb\" target=\"_parent\"><img src=\"https://colab.research.google.com/assets/colab-badge.svg\" alt=\"Open In Colab\"/></a>"
      ]
    },
    {
      "cell_type": "markdown",
      "metadata": {
        "id": "AV4gaJZ4CRN0"
      },
      "source": [
        "## Initial definitions"
      ]
    },
    {
      "cell_type": "code",
      "execution_count": 1,
      "metadata": {
        "id": "k8vMuWXPO_kI"
      },
      "outputs": [],
      "source": [
        "import numpy as np"
      ]
    },
    {
      "cell_type": "code",
      "execution_count": 2,
      "metadata": {
        "id": "A9xj5k9GO_kM"
      },
      "outputs": [],
      "source": [
        "random101 = np.random.randint(10**1, size = (10**1))\n",
        "random102 = np.random.randint(10**2, size = (10**2))\n",
        "random103 = np.random.randint(10**3, size = (10**3))\n",
        "random104 = np.random.randint(10**4, size = (10**4))\n",
        "random105 = np.random.randint(10**5, size = (10**5))"
      ]
    },
    {
      "cell_type": "code",
      "execution_count": 3,
      "metadata": {
        "id": "MpDzquoYO_kM"
      },
      "outputs": [],
      "source": [
        "fsorted101 = np.arange(0,10**1)\n",
        "fsorted102 = np.arange(0,10**2)\n",
        "fsorted103 = np.arange(0,10**3)\n",
        "fsorted104 = np.arange(0,10**4)\n",
        "fsorted105 = np.arange(0,10**5)"
      ]
    },
    {
      "cell_type": "code",
      "execution_count": 4,
      "metadata": {
        "id": "qFQ4VW4IO_kN"
      },
      "outputs": [],
      "source": [
        "rsorted101 = np.arange(0,10**1)[::-1]\n",
        "rsorted102 = np.arange(0,10**2)[::-1]\n",
        "rsorted103 = np.arange(0,10**3)[::-1]\n",
        "rsorted104 = np.arange(0,10**4)[::-1]\n",
        "rsorted105 = np.arange(0,10**5)[::-1]"
      ]
    },
    {
      "cell_type": "code",
      "execution_count": 5,
      "metadata": {
        "id": "Q4DsJi08O_kN"
      },
      "outputs": [],
      "source": [
        "psorted101 = np.concatenate((np.arange(0,(10**1-10**0)), np.random.randint(10**1, size = 10**0)))\n",
        "psorted102 = np.concatenate((np.arange(0,(10**2-10**1)), np.random.randint(10**2, size = 10**1)))\n",
        "psorted103 = np.concatenate((np.arange(0,(10**3-10**2)), np.random.randint(10**3, size = 10**2)))\n",
        "psorted104 = np.concatenate((np.arange(0,(10**4-10**3)), np.random.randint(10**4, size = 10**3)))\n",
        "psorted105 = np.concatenate((np.arange(0,(10**5-10**4)), np.random.randint(10**5, size = 10**4)))"
      ]
    },
    {
      "cell_type": "code",
      "execution_count": 7,
      "metadata": {
        "id": "y8F_CMicO_kO"
      },
      "outputs": [],
      "source": [
        "def bubbleSort(arr):\n",
        "    n = len(arr)\n",
        "\n",
        "    # Traverse through all array elements\n",
        "    for i in range(n):\n",
        "        swapped = False\n",
        "\n",
        "        # Last i elements are already in place\n",
        "        for j in range(0, n-i-1):\n",
        "\n",
        "            # Traverse the array from 0 to n-i-1\n",
        "            # Swap if the element found is greater\n",
        "            # than the next element\n",
        "            if arr[j] > arr[j+1]:\n",
        "                arr[j], arr[j+1] = arr[j+1], arr[j]\n",
        "                swapped = True\n",
        "        if (swapped == False):\n",
        "            break\n",
        "\n",
        "def insertionSort(arr):\n",
        "\n",
        "    # Traverse through 1 to len(arr)\n",
        "    for i in range(1, len(arr)):\n",
        "\n",
        "        key = arr[i]\n",
        "\n",
        "        # Move elements of arr[0..i-1], that are\n",
        "        # greater than key, to one position ahead\n",
        "        # of their current position\n",
        "        j = i-1\n",
        "        while j >= 0 and key < arr[j] :\n",
        "                arr[j + 1] = arr[j]\n",
        "                j -= 1\n",
        "        arr[j + 1] = key\n",
        "\n",
        "def partition(array, low, high):\n",
        "\n",
        "    # Choose the rightmost element as pivot\n",
        "    pivot = array[high]\n",
        "\n",
        "    # Pointer for greater element\n",
        "    i = low - 1\n",
        "\n",
        "    # Traverse through all elements\n",
        "    # compare each element with pivot\n",
        "    for j in range(low, high):\n",
        "        if array[j] <= pivot:\n",
        "\n",
        "            # If element smaller than pivot is found\n",
        "            # swap it with the greater element pointed by i\n",
        "            i = i + 1\n",
        "\n",
        "            # Swapping element at i with element at j\n",
        "            (array[i], array[j]) = (array[j], array[i])\n",
        "\n",
        "    # Swap the pivot element with\n",
        "    # the greater element specified by i\n",
        "    (array[i + 1], array[high]) = (array[high], array[i + 1])\n",
        "\n",
        "    # Return the position from where partition is done\n",
        "    return i + 1\n",
        "\n",
        "def quicksort(array, low, high):\n",
        "    if low < high:\n",
        "\n",
        "        # Find pivot element such that\n",
        "        # element smaller than pivot are on the left\n",
        "        # element greater than pivot are on the right\n",
        "        pi = partition(array, low, high)\n",
        "\n",
        "        # Recursive call on the left of pivot\n",
        "        quicksort(array, low, pi - 1)\n",
        "\n",
        "        # Recursive call on the right of pivot\n",
        "        quicksort(array, pi + 1, high)"
      ]
    },
    {
      "cell_type": "markdown",
      "metadata": {
        "id": "_YeGEkUNO_kO"
      },
      "source": [
        "## Sorting of 10^1 sized arrays"
      ]
    },
    {
      "cell_type": "code",
      "execution_count": 18,
      "metadata": {
        "colab": {
          "base_uri": "https://localhost:8080/"
        },
        "id": "hCj8rBj4O_kQ",
        "outputId": "584088a5-4d61-4baf-cc2a-d5828b493d87"
      },
      "outputs": [
        {
          "name": "stdout",
          "output_type": "stream",
          "text": [
            "1.7 µs ± 59.7 ns per loop (mean ± std. dev. of 7 runs, 100,000 loops each)\n",
            "2.55 µs ± 88 ns per loop (mean ± std. dev. of 7 runs, 100,000 loops each)\n",
            "20.8 µs ± 131 ns per loop (mean ± std. dev. of 7 runs, 10,000 loops each)\n"
          ]
        }
      ],
      "source": [
        "#print(\"Random: \", random101, \"\\n\")\n",
        "\n",
        "arr = random101.copy()\n",
        "b101r = %timeit -o bubbleSort(arr)\n",
        "#print(\"Bubble Sorted: \", arr, \"\\n\")\n",
        "\n",
        "arr = random101.copy()\n",
        "i101r = %timeit -o insertionSort(arr)\n",
        "#print(\"Insertion Sorted: \", arr, \"\\n\")\n",
        "\n",
        "arr = random101.copy()\n",
        "q101r = %timeit -o quicksort(arr, 0, len(arr) - 1)\n",
        "#print(\"Quick Sorted: \", arr)"
      ]
    },
    {
      "cell_type": "code",
      "execution_count": 22,
      "metadata": {
        "colab": {
          "base_uri": "https://localhost:8080/"
        },
        "id": "gXHUDZy6O_kR",
        "outputId": "a8e89aad-983a-48a6-9462-793aeb612098"
      },
      "outputs": [
        {
          "name": "stdout",
          "output_type": "stream",
          "text": [
            "2.8 µs ± 315 ns per loop (mean ± std. dev. of 7 runs, 100,000 loops each)\n",
            "3.55 µs ± 343 ns per loop (mean ± std. dev. of 7 runs, 100,000 loops each)\n",
            "27.8 µs ± 708 ns per loop (mean ± std. dev. of 7 runs, 10,000 loops each)\n"
          ]
        }
      ],
      "source": [
        "#print(\"Fully Sorted: \", fsorted101, \"\\n\")\n",
        "\n",
        "arr = fsorted101.copy()\n",
        "b101f = %timeit -o bubbleSort(arr)\n",
        "#print(\"Bubble Sorted: \", arr, \"\\n\")\n",
        "\n",
        "arr = fsorted101.copy()\n",
        "i101f = %timeit -o insertionSort(arr)\n",
        "#print(\"Insertion Sorted: \", arr, \"\\n\")\n",
        "\n",
        "arr = fsorted101.copy()\n",
        "q101f = %timeit -o quicksort(arr, 0, len(arr) - 1)\n",
        "#print(\"Quick Sorted: \", arr)"
      ]
    },
    {
      "cell_type": "code",
      "execution_count": 23,
      "metadata": {
        "colab": {
          "base_uri": "https://localhost:8080/"
        },
        "id": "2QKqe1JkO_kR",
        "outputId": "3f4c1624-f61f-435b-b52a-326820dd0d46"
      },
      "outputs": [
        {
          "name": "stdout",
          "output_type": "stream",
          "text": [
            "2.6 µs ± 10.3 ns per loop (mean ± std. dev. of 7 runs, 100,000 loops each)\n",
            "3.24 µs ± 23.3 ns per loop (mean ± std. dev. of 7 runs, 100,000 loops each)\n",
            "28.2 µs ± 692 ns per loop (mean ± std. dev. of 7 runs, 10,000 loops each)\n"
          ]
        }
      ],
      "source": [
        "#print(\"Reverse Sorted: \", rsorted101, \"\\n\")\n",
        "\n",
        "arr = rsorted101.copy()\n",
        "b101rs = %timeit -o bubbleSort(arr)\n",
        "#print(\"Bubble Sorted: \", arr, \"\\n\")\n",
        "\n",
        "arr = rsorted101.copy()\n",
        "i101rs = %timeit -o insertionSort(arr)\n",
        "#print(\"Insertion Sorted: \", arr, \"\\n\")\n",
        "\n",
        "arr = rsorted101.copy()\n",
        "q101rs = %timeit -o quicksort(arr, 0, len(arr) - 1)\n",
        "#print(\"Quick Sorted: \", arr)"
      ]
    },
    {
      "cell_type": "code",
      "execution_count": 24,
      "metadata": {
        "colab": {
          "base_uri": "https://localhost:8080/"
        },
        "id": "wqWfcaauO_kS",
        "outputId": "50800f66-e3af-42ef-a96a-79ea3a31121a"
      },
      "outputs": [
        {
          "name": "stdout",
          "output_type": "stream",
          "text": [
            "2.92 µs ± 381 ns per loop (mean ± std. dev. of 7 runs, 100,000 loops each)\n",
            "3.69 µs ± 424 ns per loop (mean ± std. dev. of 7 runs, 100,000 loops each)\n",
            "30.4 µs ± 1.95 µs per loop (mean ± std. dev. of 7 runs, 10,000 loops each)\n"
          ]
        }
      ],
      "source": [
        "#print(\"Partially Sorted: \", psorted101, \"\\n\")\n",
        "\n",
        "arr = psorted101.copy()\n",
        "b101p = %timeit -o bubbleSort(arr)\n",
        "#print(\"Bubble Sorted: \", arr, \"\\n\")\n",
        "\n",
        "arr = psorted101.copy()\n",
        "i101p = %timeit -o insertionSort(arr)\n",
        "#print(\"Insertion Sorted: \", arr, \"\\n\")\n",
        "\n",
        "arr = psorted101.copy()\n",
        "q101p = %timeit -o quicksort(arr, 0, len(arr) - 1)\n",
        "#print(\"Quick Sorted: \", arr)"
      ]
    },
    {
      "cell_type": "markdown",
      "metadata": {
        "id": "LR7-W4bgO_kS"
      },
      "source": [
        "## Sorting of 10^2 sized arrays"
      ]
    },
    {
      "cell_type": "code",
      "execution_count": 25,
      "metadata": {
        "colab": {
          "base_uri": "https://localhost:8080/"
        },
        "id": "xdei-1mJO_kS",
        "outputId": "a1787e5a-d67c-4070-b83d-0f03778e4184"
      },
      "outputs": [
        {
          "name": "stdout",
          "output_type": "stream",
          "text": [
            "22.9 µs ± 582 ns per loop (mean ± std. dev. of 7 runs, 10,000 loops each)\n",
            "34.3 µs ± 728 ns per loop (mean ± std. dev. of 7 runs, 10,000 loops each)\n",
            "2.32 ms ± 49.2 µs per loop (mean ± std. dev. of 7 runs, 100 loops each)\n"
          ]
        }
      ],
      "source": [
        "#print(\"Random: \", random102, \"\\n\")\n",
        "\n",
        "arr = random102.copy()\n",
        "b102r = %timeit -o bubbleSort(arr)\n",
        "#print(\"Bubble Sorted: \", arr, \"\\n\")\n",
        "\n",
        "arr = random102.copy()\n",
        "i102r = %timeit -o insertionSort(arr)\n",
        "#print(\"Insertion Sorted: \", arr, \"\\n\")\n",
        "\n",
        "arr = random102.copy()\n",
        "q102r = %timeit -o quicksort(arr, 0, len(arr) - 1)\n",
        "#print(\"Quick Sorted: \", arr)"
      ]
    },
    {
      "cell_type": "code",
      "execution_count": 26,
      "metadata": {
        "colab": {
          "base_uri": "https://localhost:8080/"
        },
        "id": "aLn-LHS8O_kT",
        "outputId": "c8a6730f-63a3-47aa-8d71-3799f87fe852"
      },
      "outputs": [
        {
          "name": "stdout",
          "output_type": "stream",
          "text": [
            "23.3 µs ± 313 ns per loop (mean ± std. dev. of 7 runs, 10,000 loops each)\n",
            "32.7 µs ± 590 ns per loop (mean ± std. dev. of 7 runs, 10,000 loops each)\n",
            "2.4 ms ± 14.9 µs per loop (mean ± std. dev. of 7 runs, 100 loops each)\n"
          ]
        }
      ],
      "source": [
        "#print(\"Fully Sorted: \", fsorted102, \"\\n\")\n",
        "\n",
        "arr = fsorted102.copy()\n",
        "b102f = %timeit -o bubbleSort(arr)\n",
        "#print(\"Bubble Sorted: \", arr, \"\\n\")\n",
        "\n",
        "arr = fsorted102.copy()\n",
        "i102f = %timeit -o insertionSort(arr)\n",
        "#print(\"Insertion Sorted: \", arr, \"\\n\")\n",
        "\n",
        "arr = fsorted102.copy()\n",
        "q102f = %timeit -o quicksort(arr, 0, len(arr) - 1)\n",
        "#print(\"Quick Sorted: \", arr)"
      ]
    },
    {
      "cell_type": "code",
      "execution_count": 27,
      "metadata": {
        "colab": {
          "base_uri": "https://localhost:8080/"
        },
        "id": "xlUsw_kjO_kT",
        "outputId": "b9d324b6-0fd1-47eb-d984-d01755298da4"
      },
      "outputs": [
        {
          "name": "stdout",
          "output_type": "stream",
          "text": [
            "23.5 µs ± 1.1 µs per loop (mean ± std. dev. of 7 runs, 10,000 loops each)\n",
            "33.3 µs ± 86.6 ns per loop (mean ± std. dev. of 7 runs, 10,000 loops each)\n",
            "2.24 ms ± 1.21 µs per loop (mean ± std. dev. of 7 runs, 100 loops each)\n"
          ]
        }
      ],
      "source": [
        "#print(\"Reverse Sorted: \", rsorted102, \"\\n\")\n",
        "\n",
        "arr = rsorted102.copy()\n",
        "b102rs = %timeit -o bubbleSort(arr)\n",
        "#print(\"Bubble Sorted: \", arr, \"\\n\")\n",
        "\n",
        "arr = rsorted102.copy()\n",
        "i102rs = %timeit -o insertionSort(arr)\n",
        "#print(\"Insertion Sorted: \", arr, \"\\n\")\n",
        "\n",
        "arr = rsorted102.copy()\n",
        "q102rs = %timeit -o quicksort(arr, 0, len(arr) - 1)\n",
        "#print(\"Quick Sorted: \", arr)"
      ]
    },
    {
      "cell_type": "code",
      "execution_count": 28,
      "metadata": {
        "colab": {
          "base_uri": "https://localhost:8080/"
        },
        "id": "z4pjB4ojO_kT",
        "outputId": "05a4e6d2-2efb-44b5-8807-9d172584691d"
      },
      "outputs": [
        {
          "name": "stdout",
          "output_type": "stream",
          "text": [
            "23.5 µs ± 1.14 µs per loop (mean ± std. dev. of 7 runs, 10,000 loops each)\n",
            "32.7 µs ± 806 ns per loop (mean ± std. dev. of 7 runs, 10,000 loops each)\n",
            "2.17 ms ± 6.03 µs per loop (mean ± std. dev. of 7 runs, 100 loops each)\n"
          ]
        }
      ],
      "source": [
        "#print(\"Partially Sorted: \", psorted102, \"\\n\")\n",
        "\n",
        "arr = psorted102.copy()\n",
        "b102p = %timeit -o bubbleSort(arr)\n",
        "#print(\"Bubble Sorted: \", arr, \"\\n\")\n",
        "\n",
        "arr = psorted102.copy()\n",
        "i102rs = %timeit -o insertionSort(arr)\n",
        "#print(\"Insertion Sorted: \", arr, \"\\n\")\n",
        "\n",
        "arr = psorted102.copy()\n",
        "q102rs = %timeit -o quicksort(arr, 0, len(arr) - 1)\n",
        "#print(\"Quick Sorted: \", arr)"
      ]
    },
    {
      "cell_type": "markdown",
      "metadata": {
        "id": "TSnO6w4YO_kT"
      },
      "source": [
        "## Sorting of 10^3 sized arrays"
      ]
    },
    {
      "cell_type": "code",
      "execution_count": 29,
      "metadata": {
        "colab": {
          "base_uri": "https://localhost:8080/"
        },
        "id": "yNY895DeO_kU",
        "outputId": "d38f607f-b664-4105-a7a5-cafe16e62b2e"
      },
      "outputs": [
        {
          "name": "stdout",
          "output_type": "stream",
          "text": [
            "248 µs ± 19.9 µs per loop (mean ± std. dev. of 7 runs, 1 loop each)\n",
            "345 µs ± 7.96 µs per loop (mean ± std. dev. of 7 runs, 1,000 loops each)\n",
            "229 ms ± 2.84 ms per loop (mean ± std. dev. of 7 runs, 10 loops each)\n"
          ]
        }
      ],
      "source": [
        "import sys\n",
        "sys.setrecursionlimit(1500)\n",
        "\n",
        "#print(\"Random: \", random103, \"\\n\")\n",
        "\n",
        "arr = random103.copy()\n",
        "b103r = %timeit -o bubbleSort(arr)\n",
        "#print(\"Bubble Sorted: \", arr, \"\\n\")\n",
        "\n",
        "arr = random103.copy()\n",
        "i103r = %timeit -o insertionSort(arr)\n",
        "#print(\"Insertion Sorted: \", arr, \"\\n\")\n",
        "\n",
        "arr = random103.copy()\n",
        "q103r = %timeit -o quicksort(arr, 0, len(arr) - 1)\n",
        "#print(\"Quick Sorted: \", arr)"
      ]
    },
    {
      "cell_type": "code",
      "execution_count": 30,
      "metadata": {
        "colab": {
          "base_uri": "https://localhost:8080/"
        },
        "id": "tOeUTNC7O_kU",
        "outputId": "99b7eb29-c152-4d7d-bd4f-c9242e9685dc"
      },
      "outputs": [
        {
          "name": "stdout",
          "output_type": "stream",
          "text": [
            "239 µs ± 2.66 µs per loop (mean ± std. dev. of 7 runs, 1,000 loops each)\n",
            "355 µs ± 24.5 µs per loop (mean ± std. dev. of 7 runs, 1,000 loops each)\n",
            "268 ms ± 36.2 ms per loop (mean ± std. dev. of 7 runs, 1 loop each)\n"
          ]
        }
      ],
      "source": [
        "#print(\"Fully Sorted: \", fsorted103, \"\\n\")\n",
        "\n",
        "arr = fsorted103.copy()\n",
        "b103f = %timeit -o bubbleSort(arr)\n",
        "#print(\"Bubble Sorted: \", arr, \"\\n\")\n",
        "\n",
        "arr = fsorted103.copy()\n",
        "i103f = %timeit -o insertionSort(arr)\n",
        "#print(\"Insertion Sorted: \", arr, \"\\n\")\n",
        "\n",
        "arr = fsorted103.copy()\n",
        "q103f = %timeit -o quicksort(arr, 0, len(arr) - 1)\n",
        "#print(\"Quick Sorted: \", arr)"
      ]
    },
    {
      "cell_type": "code",
      "execution_count": 31,
      "metadata": {
        "colab": {
          "base_uri": "https://localhost:8080/"
        },
        "id": "63mUZPDjO_kU",
        "outputId": "5954e2b1-5cba-4220-ef0c-b6ea288f75d4"
      },
      "outputs": [
        {
          "name": "stdout",
          "output_type": "stream",
          "text": [
            "237 µs ± 2.67 µs per loop (mean ± std. dev. of 7 runs, 1 loop each)\n",
            "412 µs ± 31.5 µs per loop (mean ± std. dev. of 7 runs, 1,000 loops each)\n",
            "232 ms ± 4.89 ms per loop (mean ± std. dev. of 7 runs, 10 loops each)\n"
          ]
        }
      ],
      "source": [
        "#print(\"Reverse Sorted: \", rsorted103, \"\\n\")\n",
        "\n",
        "arr = rsorted103.copy()\n",
        "b103rs = %timeit -o bubbleSort(arr)\n",
        "#print(\"Bubble Sorted: \", arr, \"\\n\")\n",
        "\n",
        "arr = rsorted103.copy()\n",
        "i103rs = %timeit -o insertionSort(arr)\n",
        "#print(\"Insertion Sorted: \", arr, \"\\n\")\n",
        "\n",
        "arr = rsorted103.copy()\n",
        "q103rs = %timeit -o quicksort(arr, 0, len(arr) - 1)\n",
        "#print(\"Quick Sorted: \", arr)"
      ]
    },
    {
      "cell_type": "code",
      "execution_count": 32,
      "metadata": {
        "colab": {
          "base_uri": "https://localhost:8080/"
        },
        "id": "2gnR6aalO_kV",
        "outputId": "42128f35-ef2c-474c-a5e9-ef64d322eb98"
      },
      "outputs": [
        {
          "name": "stdout",
          "output_type": "stream",
          "text": [
            "239 µs ± 1.79 µs per loop (mean ± std. dev. of 7 runs, 1,000 loops each)\n",
            "352 µs ± 5.24 µs per loop (mean ± std. dev. of 7 runs, 1,000 loops each)\n",
            "236 ms ± 689 µs per loop (mean ± std. dev. of 7 runs, 10 loops each)\n"
          ]
        }
      ],
      "source": [
        "#print(\"Partially Sorted: \", psorted103, \"\\n\")\n",
        "\n",
        "arr = psorted103.copy()\n",
        "b103p = %timeit -o bubbleSort(arr)\n",
        "#print(\"Bubble Sorted: \", arr, \"\\n\")\n",
        "\n",
        "arr = psorted103.copy()\n",
        "i103p = %timeit -o insertionSort(arr)\n",
        "#print(\"Insertion Sorted: \", arr, \"\\n\")\n",
        "\n",
        "arr = psorted103.copy()\n",
        "q103p = %timeit -o quicksort(arr, 0, len(arr) - 1)\n",
        "#print(\"Quick Sorted: \", arr)"
      ]
    },
    {
      "cell_type": "markdown",
      "metadata": {
        "id": "qCFbSGwNO_kV"
      },
      "source": [
        "## Sorting of 10^4 sized arrays"
      ]
    },
    {
      "cell_type": "code",
      "execution_count": 33,
      "metadata": {
        "colab": {
          "base_uri": "https://localhost:8080/",
          "height": 245
        },
        "id": "9LMED_lMO_kV",
        "outputId": "84f153cd-feb5-4334-f85e-3014490cc5fc"
      },
      "outputs": [
        {
          "name": "stdout",
          "output_type": "stream",
          "text": [
            "2.7 ms ± 280 µs per loop (mean ± std. dev. of 3 runs, 1 loop each)\n",
            "done\n",
            "3.57 ms ± 172 µs per loop (mean ± std. dev. of 3 runs, 1 loop each)\n",
            "done\n",
            "23.9 s ± 164 ms per loop (mean ± std. dev. of 3 runs, 10 loops each)\n",
            "done\n"
          ]
        }
      ],
      "source": [
        "import sys\n",
        "sys.setrecursionlimit(10**6)\n",
        "\n",
        "#print(\"Random: \", random104, \"\\n\")\n",
        "\n",
        "arr = random104.copy()\n",
        "b104r = %timeit -o -r3 bubbleSort(arr)\n",
        "#print(\"Bubble Sorted: \", arr, \"\\n\")\n",
        "print(\"done\")\n",
        "\n",
        "arr = random104.copy()\n",
        "i104r = %timeit -o -r3 insertionSort(arr)\n",
        "#print(\"Insertion Sorted: \", arr, \"\\n\")\n",
        "print(\"done\")\n",
        "\n",
        "arr = random104.copy()\n",
        "q104r = %timeit -o -r3 quicksort(arr, 0, len(arr) - 1)\n",
        "#print(\"Quick Sorted: \", arr)\n",
        "print(\"done\")"
      ]
    },
    {
      "cell_type": "code",
      "execution_count": 34,
      "metadata": {
        "id": "Qc2oO4sDO_kV"
      },
      "outputs": [
        {
          "name": "stdout",
          "output_type": "stream",
          "text": [
            "2.37 ms ± 33.9 µs per loop (mean ± std. dev. of 3 runs, 100 loops each)\n",
            "done\n",
            "3.66 ms ± 18.4 µs per loop (mean ± std. dev. of 3 runs, 100 loops each)\n",
            "done\n",
            "24.1 s ± 197 ms per loop (mean ± std. dev. of 3 runs, 1 loop each)\n",
            "done\n"
          ]
        }
      ],
      "source": [
        "#print(\"Fully Sorted: \", fsorted104, \"\\n\")\n",
        "\n",
        "arr = fsorted104.copy()\n",
        "b104f = %timeit -o -r3 bubbleSort(arr)\n",
        "#print(\"Bubble Sorted: \", arr, \"\\n\")\n",
        "print(\"done\")\n",
        "\n",
        "arr = fsorted104.copy()\n",
        "i104f = %timeit -o -r3 insertionSort(arr)\n",
        "#print(\"Insertion Sorted: \", arr, \"\\n\")\n",
        "print(\"done\")\n",
        "\n",
        "arr = fsorted104.copy()\n",
        "q104f = %timeit -o -r3 quicksort(arr, 0, len(arr) - 1)\n",
        "#print(\"Quick Sorted: \", arr)\n",
        "print(\"done\")"
      ]
    },
    {
      "cell_type": "code",
      "execution_count": 35,
      "metadata": {
        "id": "xq3Gz6IzO_kV"
      },
      "outputs": [
        {
          "name": "stdout",
          "output_type": "stream",
          "text": [
            "2.46 ms ± 54.1 µs per loop (mean ± std. dev. of 3 runs, 1 loop each)\n",
            "done\n",
            "4.06 ms ± 294 µs per loop (mean ± std. dev. of 3 runs, 1 loop each)\n",
            "done\n",
            "24.3 s ± 333 ms per loop (mean ± std. dev. of 3 runs, 1 loop each)\n",
            "done\n"
          ]
        }
      ],
      "source": [
        "#print(\"Reverse Sorted: \", rsorted104, \"\\n\")\n",
        "\n",
        "arr = rsorted104.copy()\n",
        "b104rs = %timeit -o -r3 bubbleSort(arr)\n",
        "#print(\"Bubble Sorted: \", arr, \"\\n\")\n",
        "print(\"done\")\n",
        "\n",
        "arr = rsorted104.copy()\n",
        "i104rs = %timeit -o -r3 insertionSort(arr)\n",
        "#print(\"Insertion Sorted: \", arr, \"\\n\")\n",
        "print(\"done\")\n",
        "\n",
        "arr = rsorted104.copy()\n",
        "q104rs = %timeit -o -r3 quicksort(arr, 0, len(arr) - 1)\n",
        "#print(\"Quick Sorted: \", arr)\n",
        "print(\"done\")"
      ]
    },
    {
      "cell_type": "code",
      "execution_count": 36,
      "metadata": {
        "id": "2pemu_XPO_kV"
      },
      "outputs": [
        {
          "name": "stdout",
          "output_type": "stream",
          "text": [
            "2.32 ms ± 10.3 µs per loop (mean ± std. dev. of 3 runs, 1 loop each)\n",
            "done\n",
            "3.6 ms ± 90.3 µs per loop (mean ± std. dev. of 3 runs, 1 loop each)\n",
            "done\n",
            "24.6 s ± 33.7 ms per loop (mean ± std. dev. of 3 runs, 10 loops each)\n",
            "done\n"
          ]
        }
      ],
      "source": [
        "#print(\"Partially Sorted: \", psorted104, \"\\n\")\n",
        "\n",
        "arr = psorted104.copy()\n",
        "b104p = %timeit -o -r3 bubbleSort(arr)\n",
        "#print(\"Bubble Sorted: \", arr, \"\\n\")\n",
        "print(\"done\")\n",
        "\n",
        "arr = psorted104.copy()\n",
        "i104p = %timeit -o -r3 insertionSort(arr)\n",
        "#print(\"Insertion Sorted: \", arr, \"\\n\")\n",
        "print(\"done\")\n",
        "\n",
        "arr = psorted104.copy()\n",
        "q104p = %timeit -o -r3 quicksort(arr, 0, len(arr) - 1)\n",
        "#print(\"Quick Sorted: \", arr)\n",
        "print(\"done\")"
      ]
    },
    {
      "cell_type": "markdown",
      "metadata": {
        "id": "Uw-sIYxtO_kW"
      },
      "source": [
        "## Sorting of 10^5 sized arrays"
      ]
    },
    {
      "cell_type": "code",
      "execution_count": 37,
      "metadata": {
        "id": "aEa34-FTO_kW"
      },
      "outputs": [
        {
          "name": "stdout",
          "output_type": "stream",
          "text": [
            "25.4 ms ± 309 µs per loop (mean ± std. dev. of 3 runs, 1 loop each)\n",
            "done\n",
            "38.2 ms ± 464 µs per loop (mean ± std. dev. of 3 runs, 1 loop each)\n",
            "done\n"
          ]
        },
        {
          "ename": "",
          "evalue": "",
          "output_type": "error",
          "traceback": [
            "\u001b[1;31mThe Kernel crashed while executing code in the the current cell or a previous cell. Please review the code in the cell(s) to identify a possible cause of the failure. Click <a href='https://aka.ms/vscodeJupyterKernelCrash'>here</a> for more info. View Jupyter <a href='command:jupyter.viewOutput'>log</a> for further details."
          ]
        }
      ],
      "source": [
        "#print(\"Random: \", random105, \"\\n\")\n",
        "\n",
        "arr = random105.copy()\n",
        "b105r = %timeit -o -r3 bubbleSort(arr)\n",
        "#print(\"Bubble Sorted: \", arr, \"\\n\")\n",
        "print(\"done\")\n",
        "\n",
        "arr = random105.copy()\n",
        "i105r = %timeit -o -r3 insertionSort(arr)\n",
        "#print(\"Insertion Sorted: \", arr, \"\\n\")\n",
        "print(\"done\")\n",
        "\n",
        "arr = random105.copy()\n",
        "q105r = %timeit -o -r3 quicksort(arr, 0, len(arr) - 1)\n",
        "#print(\"Quick Sorted: \", arr)\n",
        "print(\"done\")"
      ]
    },
    {
      "cell_type": "code",
      "execution_count": null,
      "metadata": {
        "id": "KLgJMU6GO_kW"
      },
      "outputs": [],
      "source": [
        "#print(\"Fully Sorted: \", fsorted105, \"\\n\")\n",
        "\n",
        "arr = fsorted105.copy()\n",
        "b105f = %timeit -o -r3 bubbleSort(arr)\n",
        "#print(\"Bubble Sorted: \", arr, \"\\n\")\n",
        "print(\"done\")\n",
        "\n",
        "arr = fsorted105.copy()\n",
        "i105f = %timeit -o -r3 insertionSort(arr)\n",
        "#print(\"Insertion Sorted: \", arr, \"\\n\")\n",
        "print(\"done\")\n",
        "\n",
        "arr = fsorted105.copy()\n",
        "q105f = %timeit -o -r3 quicksort(arr, 0, len(arr) - 1)\n",
        "#print(\"Quick Sorted: \", arr)\n",
        "print(\"done\")"
      ]
    },
    {
      "cell_type": "code",
      "execution_count": null,
      "metadata": {
        "id": "gWmoeprzO_kW"
      },
      "outputs": [],
      "source": [
        "#print(\"Reverse Sorted: \", rsorted105, \"\\n\")\n",
        "\n",
        "arr = rsorted105.copy()\n",
        "b105rs = %timeit -o -r3 bubbleSort(arr)\n",
        "#print(\"Bubble Sorted: \", arr, \"\\n\")\n",
        "print(\"done\")\n",
        "\n",
        "arr = rsorted105.copy()\n",
        "i105rs = %timeit -o -r3 insertionSort(arr)\n",
        "#print(\"Insertion Sorted: \", arr, \"\\n\")\n",
        "print(\"done\")\n",
        "\n",
        "arr = rsorted105.copy()\n",
        "q105rs = %timeit -o -r3 quicksort(arr, 0, len(arr) - 1)\n",
        "#print(\"Quick Sorted: \", arr)\n",
        "print(\"done\")"
      ]
    },
    {
      "cell_type": "code",
      "execution_count": null,
      "metadata": {
        "id": "1ovR1gBkO_kW"
      },
      "outputs": [],
      "source": [
        "#print(\"Partially Sorted: \", psorted105, \"\\n\")\n",
        "\n",
        "arr = psorted105.copy()\n",
        "b105p = %timeit -r3 bubbleSort(arr)\n",
        "#print(\"Bubble Sorted: \", arr, \"\\n\")\n",
        "print(\"done\")\n",
        "\n",
        "arr = psorted105.copy()\n",
        "i105p = %timeit -r3 insertionSort(arr)\n",
        "#print(\"Insertion Sorted: \", arr, \"\\n\")\n",
        "print(\"done\")\n",
        "\n",
        "arr = psorted105.copy()\n",
        "q105p = %timeit -o -r3 quicksort(arr, 0, len(arr) - 1)\n",
        "#print(\"Quick Sorted: \", arr)\n",
        "print(\"done\")"
      ]
    },
    {
      "cell_type": "code",
      "execution_count": null,
      "metadata": {
        "id": "smfyifTJO_kW"
      },
      "outputs": [
        {
          "name": "stdout",
          "output_type": "stream",
          "text": [
            "799 ns ± 4.08 ns per loop (mean ± std. dev. of 3 runs, 1,000,000 loops each)\n"
          ]
        }
      ],
      "source": []
    }
  ],
  "metadata": {
    "colab": {
      "include_colab_link": true,
      "provenance": [],
      "toc_visible": true
    },
    "kernelspec": {
      "display_name": "Python 3",
      "name": "python3"
    },
    "language_info": {
      "codemirror_mode": {
        "name": "ipython",
        "version": 3
      },
      "file_extension": ".py",
      "mimetype": "text/x-python",
      "name": "python",
      "nbconvert_exporter": "python",
      "pygments_lexer": "ipython3",
      "version": "3.8.10"
    }
  },
  "nbformat": 4,
  "nbformat_minor": 0
}
