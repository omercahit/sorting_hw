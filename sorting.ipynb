{
  "cells": [
    {
      "cell_type": "markdown",
      "metadata": {
        "colab_type": "text",
        "id": "view-in-github"
      },
      "source": [
        "<a href=\"https://colab.research.google.com/github/omercahit/sorting_hw/blob/main/sorting.ipynb\" target=\"_parent\"><img src=\"https://colab.research.google.com/assets/colab-badge.svg\" alt=\"Open In Colab\"/></a>"
      ]
    },
    {
      "cell_type": "markdown",
      "metadata": {
        "id": "AV4gaJZ4CRN0"
      },
      "source": [
        "## Initial definitions"
      ]
    },
    {
      "cell_type": "code",
      "execution_count": 1,
      "metadata": {
        "id": "k8vMuWXPO_kI"
      },
      "outputs": [],
      "source": [
        "import numpy as np"
      ]
    },
    {
      "cell_type": "code",
      "execution_count": 2,
      "metadata": {
        "id": "A9xj5k9GO_kM"
      },
      "outputs": [],
      "source": [
        "random101 = np.random.randint(10**1, size = (10**1))\n",
        "random102 = np.random.randint(10**2, size = (10**2))\n",
        "random103 = np.random.randint(10**3, size = (10**3))\n",
        "random104 = np.random.randint(10**4, size = (10**4))\n",
        "random105 = np.random.randint(10**5, size = (10**5))"
      ]
    },
    {
      "cell_type": "code",
      "execution_count": 4,
      "metadata": {
        "id": "MpDzquoYO_kM"
      },
      "outputs": [],
      "source": [
        "fsorted101 = np.arange(0,10**1)\n",
        "fsorted102 = np.arange(0,10**2)\n",
        "fsorted103 = np.arange(0,10**3)\n",
        "fsorted104 = np.arange(0,10**4)\n",
        "fsorted105 = np.arange(0,10**5)"
      ]
    },
    {
      "cell_type": "code",
      "execution_count": 5,
      "metadata": {
        "id": "qFQ4VW4IO_kN"
      },
      "outputs": [],
      "source": [
        "rsorted101 = np.arange(0,10**1)[::-1]\n",
        "rsorted102 = np.arange(0,10**2)[::-1]\n",
        "rsorted103 = np.arange(0,10**3)[::-1]\n",
        "rsorted104 = np.arange(0,10**4)[::-1]\n",
        "rsorted105 = np.arange(0,10**5)[::-1]"
      ]
    },
    {
      "cell_type": "code",
      "execution_count": 6,
      "metadata": {
        "id": "Q4DsJi08O_kN"
      },
      "outputs": [],
      "source": [
        "psorted101 = np.concatenate((np.arange(0,(10**1-10**0)), np.random.randint(10**1, size = 10**0)))\n",
        "psorted102 = np.concatenate((np.arange(0,(10**2-10**1)), np.random.randint(10**2, size = 10**1)))\n",
        "psorted103 = np.concatenate((np.arange(0,(10**3-10**2)), np.random.randint(10**3, size = 10**2)))\n",
        "psorted104 = np.concatenate((np.arange(0,(10**4-10**3)), np.random.randint(10**4, size = 10**3)))\n",
        "psorted105 = np.concatenate((np.arange(0,(10**5-10**4)), np.random.randint(10**5, size = 10**4)))"
      ]
    },
    {
      "cell_type": "code",
      "execution_count": 7,
      "metadata": {
        "id": "y8F_CMicO_kO"
      },
      "outputs": [],
      "source": [
        "def bubbleSort(arr):\n",
        "    n = len(arr)\n",
        "\n",
        "    # Traverse through all array elements\n",
        "    for i in range(n):\n",
        "        swapped = False\n",
        "\n",
        "        # Last i elements are already in place\n",
        "        for j in range(0, n-i-1):\n",
        "\n",
        "            # Traverse the array from 0 to n-i-1\n",
        "            # Swap if the element found is greater\n",
        "            # than the next element\n",
        "            if arr[j] > arr[j+1]:\n",
        "                arr[j], arr[j+1] = arr[j+1], arr[j]\n",
        "                swapped = True\n",
        "        if (swapped == False):\n",
        "            break\n",
        "\n",
        "def insertionSort(arr):\n",
        "\n",
        "    # Traverse through 1 to len(arr)\n",
        "    for i in range(1, len(arr)):\n",
        "\n",
        "        key = arr[i]\n",
        "\n",
        "        # Move elements of arr[0..i-1], that are\n",
        "        # greater than key, to one position ahead\n",
        "        # of their current position\n",
        "        j = i-1\n",
        "        while j >= 0 and key < arr[j] :\n",
        "                arr[j + 1] = arr[j]\n",
        "                j -= 1\n",
        "        arr[j + 1] = key\n",
        "\n",
        "def partition(array, low, high):\n",
        "\n",
        "    # Choose the rightmost element as pivot\n",
        "    pivot = array[high]\n",
        "\n",
        "    # Pointer for greater element\n",
        "    i = low - 1\n",
        "\n",
        "    # Traverse through all elements\n",
        "    # compare each element with pivot\n",
        "    for j in range(low, high):\n",
        "        if array[j] <= pivot:\n",
        "\n",
        "            # If element smaller than pivot is found\n",
        "            # swap it with the greater element pointed by i\n",
        "            i = i + 1\n",
        "\n",
        "            # Swapping element at i with element at j\n",
        "            (array[i], array[j]) = (array[j], array[i])\n",
        "\n",
        "    # Swap the pivot element with\n",
        "    # the greater element specified by i\n",
        "    (array[i + 1], array[high]) = (array[high], array[i + 1])\n",
        "\n",
        "    # Return the position from where partition is done\n",
        "    return i + 1\n",
        "\n",
        "def quicksort(array, low, high):\n",
        "    if low < high:\n",
        "\n",
        "        # Find pivot element such that\n",
        "        # element smaller than pivot are on the left\n",
        "        # element greater than pivot are on the right\n",
        "        pi = partition(array, low, high)\n",
        "\n",
        "        # Recursive call on the left of pivot\n",
        "        quicksort(array, low, pi - 1)\n",
        "\n",
        "        # Recursive call on the right of pivot\n",
        "        quicksort(array, pi + 1, high)"
      ]
    },
    {
      "cell_type": "markdown",
      "metadata": {
        "id": "_YeGEkUNO_kO"
      },
      "source": [
        "## Sorting of 10^1 sized arrays"
      ]
    },
    {
      "cell_type": "code",
      "execution_count": 21,
      "metadata": {
        "colab": {
          "base_uri": "https://localhost:8080/"
        },
        "id": "hCj8rBj4O_kQ",
        "outputId": "584088a5-4d61-4baf-cc2a-d5828b493d87"
      },
      "outputs": [
        {
          "name": "stdout",
          "output_type": "stream",
          "text": [
            "2.78 µs ± 29.5 ns per loop (mean ± std. dev. of 7 runs, 100,000 loops each)\n",
            "3.88 µs ± 53.7 ns per loop (mean ± std. dev. of 7 runs, 100,000 loops each)\n",
            "34.1 µs ± 307 ns per loop (mean ± std. dev. of 7 runs, 10,000 loops each)\n"
          ]
        }
      ],
      "source": [
        "#%%capture result\n",
        "#print(\"Random: \", random101, \"\\n\")\n",
        "\n",
        "arr = random101.copy()\n",
        "%timeit bubbleSort(arr)\n",
        "#print(\"Bubble Sorted: \", arr, \"\\n\")\n",
        "\n",
        "arr = random101.copy()\n",
        "%timeit insertionSort(arr)\n",
        "#print(\"Insertion Sorted: \", arr, \"\\n\")\n",
        "\n",
        "arr = random101.copy()\n",
        "%timeit quicksort(arr, 0, len(arr) - 1)\n",
        "#print(\"Quick Sorted: \", arr)"
      ]
    },
    {
      "cell_type": "code",
      "execution_count": 20,
      "metadata": {},
      "outputs": [
        {
          "data": {
            "text/plain": [
              "['2.8 us +- 34.7 ns per loop (mean +- std. dev. of 7 runs, 100,000 loops each)',\n",
              " '3.93 us +- 69.6 ns per loop (mean +- std. dev. of 7 runs, 100,000 loops each)',\n",
              " '34.3 us +- 193 ns per loop (mean +- std. dev. of 7 runs, 10,000 loops each)',\n",
              " '']"
            ]
          },
          "execution_count": 20,
          "metadata": {},
          "output_type": "execute_result"
        }
      ],
      "source": [
        "result.stdout.split(\"\\n\")"
      ]
    },
    {
      "cell_type": "code",
      "execution_count": 14,
      "metadata": {},
      "outputs": [
        {
          "data": {
            "text/plain": [
              "''"
            ]
          },
          "execution_count": 14,
          "metadata": {},
          "output_type": "execute_result"
        }
      ],
      "source": [
        "res"
      ]
    },
    {
      "cell_type": "code",
      "execution_count": 22,
      "metadata": {
        "colab": {
          "base_uri": "https://localhost:8080/"
        },
        "id": "gXHUDZy6O_kR",
        "outputId": "a8e89aad-983a-48a6-9462-793aeb612098"
      },
      "outputs": [
        {
          "name": "stdout",
          "output_type": "stream",
          "text": [
            "Fully Sorted:  [0 1 2 3 4 5 6 7 8 9] \n",
            "\n",
            "2.84 µs ± 56 ns per loop (mean ± std. dev. of 7 runs, 100,000 loops each)\n",
            "Bubble Sorted:  [0 1 2 3 4 5 6 7 8 9] \n",
            "\n",
            "3.71 µs ± 31.5 ns per loop (mean ± std. dev. of 7 runs, 100,000 loops each)\n",
            "Insertion Sorted:  [0 1 2 3 4 5 6 7 8 9] \n",
            "\n",
            "33.6 µs ± 787 ns per loop (mean ± std. dev. of 7 runs, 10,000 loops each)\n",
            "Quick Sorted:  [0 1 2 3 4 5 6 7 8 9]\n"
          ]
        }
      ],
      "source": [
        "print(\"Fully Sorted: \", fsorted101, \"\\n\")\n",
        "\n",
        "arr = fsorted101.copy()\n",
        "%timeit bubbleSort(arr)\n",
        "print(\"Bubble Sorted: \", arr, \"\\n\")\n",
        "\n",
        "arr = fsorted101.copy()\n",
        "%timeit insertionSort(arr)\n",
        "print(\"Insertion Sorted: \", arr, \"\\n\")\n",
        "\n",
        "arr = fsorted101.copy()\n",
        "%timeit quicksort(arr, 0, len(arr) - 1)\n",
        "print(\"Quick Sorted: \", arr)"
      ]
    },
    {
      "cell_type": "code",
      "execution_count": 23,
      "metadata": {
        "colab": {
          "base_uri": "https://localhost:8080/"
        },
        "id": "2QKqe1JkO_kR",
        "outputId": "3f4c1624-f61f-435b-b52a-326820dd0d46"
      },
      "outputs": [
        {
          "name": "stdout",
          "output_type": "stream",
          "text": [
            "Reverse Sorted:  [9 8 7 6 5 4 3 2 1 0] \n",
            "\n",
            "2.83 µs ± 56.7 ns per loop (mean ± std. dev. of 7 runs, 100,000 loops each)\n",
            "Bubble Sorted:  [0 1 2 3 4 5 6 7 8 9] \n",
            "\n",
            "3.8 µs ± 77.7 ns per loop (mean ± std. dev. of 7 runs, 100,000 loops each)\n",
            "Insertion Sorted:  [0 1 2 3 4 5 6 7 8 9] \n",
            "\n",
            "32.5 µs ± 232 ns per loop (mean ± std. dev. of 7 runs, 10,000 loops each)\n",
            "Quick Sorted:  [0 1 2 3 4 5 6 7 8 9]\n"
          ]
        }
      ],
      "source": [
        "print(\"Reverse Sorted: \", rsorted101, \"\\n\")\n",
        "\n",
        "arr = rsorted101.copy()\n",
        "%timeit bubbleSort(arr)\n",
        "print(\"Bubble Sorted: \", arr, \"\\n\")\n",
        "\n",
        "arr = rsorted101.copy()\n",
        "%timeit insertionSort(arr)\n",
        "print(\"Insertion Sorted: \", arr, \"\\n\")\n",
        "\n",
        "arr = rsorted101.copy()\n",
        "%timeit quicksort(arr, 0, len(arr) - 1)\n",
        "print(\"Quick Sorted: \", arr)"
      ]
    },
    {
      "cell_type": "code",
      "execution_count": 10,
      "metadata": {
        "colab": {
          "base_uri": "https://localhost:8080/"
        },
        "id": "wqWfcaauO_kS",
        "outputId": "50800f66-e3af-42ef-a96a-79ea3a31121a"
      },
      "outputs": [
        {
          "name": "stdout",
          "output_type": "stream",
          "text": [
            "Partially Sorted:  [0 1 2 3 4 5 6 7 8 5] \n",
            "\n",
            "2.83 µs ± 59.1 ns per loop (mean ± std. dev. of 7 runs, 100,000 loops each)\n",
            "Bubble Sorted:  [0 1 2 3 4 5 5 6 7 8] \n",
            "\n",
            "4 µs ± 70.9 ns per loop (mean ± std. dev. of 7 runs, 100,000 loops each)\n",
            "Insertion Sorted:  [0 1 2 3 4 5 5 6 7 8] \n",
            "\n",
            "34.4 µs ± 713 ns per loop (mean ± std. dev. of 7 runs, 10,000 loops each)\n",
            "Quick Sorted:  [0 1 2 3 4 5 5 6 7 8]\n"
          ]
        }
      ],
      "source": [
        "print(\"Partially Sorted: \", psorted101, \"\\n\")\n",
        "\n",
        "arr = psorted101.copy()\n",
        "%timeit bubbleSort(arr)\n",
        "print(\"Bubble Sorted: \", arr, \"\\n\")\n",
        "\n",
        "arr = psorted101.copy()\n",
        "%timeit insertionSort(arr)\n",
        "print(\"Insertion Sorted: \", arr, \"\\n\")\n",
        "\n",
        "arr = psorted101.copy()\n",
        "%timeit quicksort(arr, 0, len(arr) - 1)\n",
        "print(\"Quick Sorted: \", arr)"
      ]
    },
    {
      "cell_type": "markdown",
      "metadata": {
        "id": "LR7-W4bgO_kS"
      },
      "source": [
        "## Sorting of 10^2 sized arrays"
      ]
    },
    {
      "cell_type": "code",
      "execution_count": 11,
      "metadata": {
        "colab": {
          "base_uri": "https://localhost:8080/"
        },
        "id": "xdei-1mJO_kS",
        "outputId": "a1787e5a-d67c-4070-b83d-0f03778e4184"
      },
      "outputs": [
        {
          "name": "stdout",
          "output_type": "stream",
          "text": [
            "23.9 µs ± 1.02 µs per loop (mean ± std. dev. of 7 runs, 10,000 loops each)\n",
            "37.4 µs ± 738 ns per loop (mean ± std. dev. of 7 runs, 10,000 loops each)\n",
            "2.59 ms ± 29.2 µs per loop (mean ± std. dev. of 7 runs, 100 loops each)\n"
          ]
        }
      ],
      "source": [
        "#print(\"Random: \", random102, \"\\n\")\n",
        "\n",
        "arr = random102.copy()\n",
        "%timeit bubbleSort(arr)\n",
        "#print(\"Bubble Sorted: \", arr, \"\\n\")\n",
        "\n",
        "arr = random102.copy()\n",
        "%timeit insertionSort(arr)\n",
        "#print(\"Insertion Sorted: \", arr, \"\\n\")\n",
        "\n",
        "arr = random102.copy()\n",
        "%timeit quicksort(arr, 0, len(arr) - 1)\n",
        "#print(\"Quick Sorted: \", arr)"
      ]
    },
    {
      "cell_type": "code",
      "execution_count": 12,
      "metadata": {
        "colab": {
          "base_uri": "https://localhost:8080/"
        },
        "id": "aLn-LHS8O_kT",
        "outputId": "c8a6730f-63a3-47aa-8d71-3799f87fe852"
      },
      "outputs": [
        {
          "name": "stdout",
          "output_type": "stream",
          "text": [
            "24.3 µs ± 409 ns per loop (mean ± std. dev. of 7 runs, 10,000 loops each)\n",
            "36.5 µs ± 829 ns per loop (mean ± std. dev. of 7 runs, 10,000 loops each)\n",
            "2.53 ms ± 47.5 µs per loop (mean ± std. dev. of 7 runs, 100 loops each)\n"
          ]
        }
      ],
      "source": [
        "#print(\"Fully Sorted: \", fsorted102, \"\\n\")\n",
        "\n",
        "arr = fsorted102.copy()\n",
        "%timeit bubbleSort(arr)\n",
        "#print(\"Bubble Sorted: \", arr, \"\\n\")\n",
        "\n",
        "arr = fsorted102.copy()\n",
        "%timeit insertionSort(arr)\n",
        "#print(\"Insertion Sorted: \", arr, \"\\n\")\n",
        "\n",
        "arr = fsorted102.copy()\n",
        "%timeit quicksort(arr, 0, len(arr) - 1)\n",
        "#print(\"Quick Sorted: \", arr)"
      ]
    },
    {
      "cell_type": "code",
      "execution_count": 13,
      "metadata": {
        "colab": {
          "base_uri": "https://localhost:8080/"
        },
        "id": "xlUsw_kjO_kT",
        "outputId": "b9d324b6-0fd1-47eb-d984-d01755298da4"
      },
      "outputs": [
        {
          "name": "stdout",
          "output_type": "stream",
          "text": [
            "23.8 µs ± 375 ns per loop (mean ± std. dev. of 7 runs, 10,000 loops each)\n",
            "38.2 µs ± 290 ns per loop (mean ± std. dev. of 7 runs, 10,000 loops each)\n",
            "2.47 ms ± 42.6 µs per loop (mean ± std. dev. of 7 runs, 100 loops each)\n"
          ]
        }
      ],
      "source": [
        "#print(\"Reverse Sorted: \", rsorted102, \"\\n\")\n",
        "\n",
        "arr = rsorted102.copy()\n",
        "%timeit bubbleSort(arr)\n",
        "#print(\"Bubble Sorted: \", arr, \"\\n\")\n",
        "\n",
        "arr = rsorted102.copy()\n",
        "%timeit insertionSort(arr)\n",
        "#print(\"Insertion Sorted: \", arr, \"\\n\")\n",
        "\n",
        "arr = rsorted102.copy()\n",
        "%timeit quicksort(arr, 0, len(arr) - 1)\n",
        "#print(\"Quick Sorted: \", arr)"
      ]
    },
    {
      "cell_type": "code",
      "execution_count": 14,
      "metadata": {
        "colab": {
          "base_uri": "https://localhost:8080/"
        },
        "id": "z4pjB4ojO_kT",
        "outputId": "05a4e6d2-2efb-44b5-8807-9d172584691d"
      },
      "outputs": [
        {
          "name": "stdout",
          "output_type": "stream",
          "text": [
            "23.3 µs ± 271 ns per loop (mean ± std. dev. of 7 runs, 10,000 loops each)\n",
            "37.4 µs ± 878 ns per loop (mean ± std. dev. of 7 runs, 10,000 loops each)\n",
            "2.55 ms ± 19.8 µs per loop (mean ± std. dev. of 7 runs, 100 loops each)\n"
          ]
        }
      ],
      "source": [
        "#print(\"Partially Sorted: \", psorted102, \"\\n\")\n",
        "\n",
        "arr = psorted102.copy()\n",
        "%timeit bubbleSort(arr)\n",
        "#print(\"Bubble Sorted: \", arr, \"\\n\")\n",
        "\n",
        "arr = psorted102.copy()\n",
        "%timeit insertionSort(arr)\n",
        "#print(\"Insertion Sorted: \", arr, \"\\n\")\n",
        "\n",
        "arr = psorted102.copy()\n",
        "%timeit quicksort(arr, 0, len(arr) - 1)\n",
        "#print(\"Quick Sorted: \", arr)"
      ]
    },
    {
      "cell_type": "markdown",
      "metadata": {
        "id": "TSnO6w4YO_kT"
      },
      "source": [
        "## Sorting of 10^3 sized arrays"
      ]
    },
    {
      "cell_type": "code",
      "execution_count": 15,
      "metadata": {
        "colab": {
          "base_uri": "https://localhost:8080/"
        },
        "id": "yNY895DeO_kU",
        "outputId": "d38f607f-b664-4105-a7a5-cafe16e62b2e"
      },
      "outputs": [
        {
          "name": "stdout",
          "output_type": "stream",
          "text": [
            "238 µs ± 2.56 µs per loop (mean ± std. dev. of 7 runs, 1 loop each)\n",
            "402 µs ± 9.18 µs per loop (mean ± std. dev. of 7 runs, 1,000 loops each)\n",
            "250 ms ± 4.38 ms per loop (mean ± std. dev. of 7 runs, 10 loops each)\n"
          ]
        }
      ],
      "source": [
        "import sys\n",
        "sys.setrecursionlimit(1500)\n",
        "\n",
        "#print(\"Random: \", random103, \"\\n\")\n",
        "\n",
        "arr = random103.copy()\n",
        "%timeit bubbleSort(arr)\n",
        "#print(\"Bubble Sorted: \", arr, \"\\n\")\n",
        "\n",
        "arr = random103.copy()\n",
        "%timeit insertionSort(arr)\n",
        "#print(\"Insertion Sorted: \", arr, \"\\n\")\n",
        "\n",
        "arr = random103.copy()\n",
        "%timeit quicksort(arr, 0, len(arr) - 1)\n",
        "#print(\"Quick Sorted: \", arr)"
      ]
    },
    {
      "cell_type": "code",
      "execution_count": 16,
      "metadata": {
        "colab": {
          "base_uri": "https://localhost:8080/"
        },
        "id": "tOeUTNC7O_kU",
        "outputId": "99b7eb29-c152-4d7d-bd4f-c9242e9685dc"
      },
      "outputs": [
        {
          "name": "stdout",
          "output_type": "stream",
          "text": [
            "235 µs ± 2.67 µs per loop (mean ± std. dev. of 7 runs, 1,000 loops each)\n",
            "407 µs ± 2.03 µs per loop (mean ± std. dev. of 7 runs, 1,000 loops each)\n",
            "255 ms ± 2.55 ms per loop (mean ± std. dev. of 7 runs, 1 loop each)\n"
          ]
        }
      ],
      "source": [
        "#print(\"Fully Sorted: \", fsorted103, \"\\n\")\n",
        "\n",
        "arr = fsorted103.copy()\n",
        "%timeit bubbleSort(arr)\n",
        "#print(\"Bubble Sorted: \", arr, \"\\n\")\n",
        "\n",
        "arr = fsorted103.copy()\n",
        "%timeit insertionSort(arr)\n",
        "#print(\"Insertion Sorted: \", arr, \"\\n\")\n",
        "\n",
        "arr = fsorted103.copy()\n",
        "%timeit quicksort(arr, 0, len(arr) - 1)\n",
        "#print(\"Quick Sorted: \", arr)"
      ]
    },
    {
      "cell_type": "code",
      "execution_count": 17,
      "metadata": {
        "colab": {
          "base_uri": "https://localhost:8080/"
        },
        "id": "63mUZPDjO_kU",
        "outputId": "5954e2b1-5cba-4220-ef0c-b6ea288f75d4"
      },
      "outputs": [
        {
          "name": "stdout",
          "output_type": "stream",
          "text": [
            "265 µs ± 50 µs per loop (mean ± std. dev. of 7 runs, 1 loop each)\n",
            "397 µs ± 11.1 µs per loop (mean ± std. dev. of 7 runs, 1,000 loops each)\n",
            "250 ms ± 4.27 ms per loop (mean ± std. dev. of 7 runs, 10 loops each)\n"
          ]
        }
      ],
      "source": [
        "#print(\"Reverse Sorted: \", rsorted103, \"\\n\")\n",
        "\n",
        "arr = rsorted103.copy()\n",
        "%timeit bubbleSort(arr)\n",
        "#print(\"Bubble Sorted: \", arr, \"\\n\")\n",
        "\n",
        "arr = rsorted103.copy()\n",
        "%timeit insertionSort(arr)\n",
        "#print(\"Insertion Sorted: \", arr, \"\\n\")\n",
        "\n",
        "arr = rsorted103.copy()\n",
        "%timeit quicksort(arr, 0, len(arr) - 1)\n",
        "#print(\"Quick Sorted: \", arr)"
      ]
    },
    {
      "cell_type": "code",
      "execution_count": 18,
      "metadata": {
        "colab": {
          "base_uri": "https://localhost:8080/"
        },
        "id": "2gnR6aalO_kV",
        "outputId": "42128f35-ef2c-474c-a5e9-ef64d322eb98"
      },
      "outputs": [
        {
          "name": "stdout",
          "output_type": "stream",
          "text": [
            "241 µs ± 2.48 µs per loop (mean ± std. dev. of 7 runs, 1,000 loops each)\n",
            "417 µs ± 14.2 µs per loop (mean ± std. dev. of 7 runs, 1,000 loops each)\n",
            "249 ms ± 924 µs per loop (mean ± std. dev. of 7 runs, 10 loops each)\n"
          ]
        }
      ],
      "source": [
        "#print(\"Partially Sorted: \", psorted103, \"\\n\")\n",
        "\n",
        "arr = psorted103.copy()\n",
        "%timeit bubbleSort(arr)\n",
        "#print(\"Bubble Sorted: \", arr, \"\\n\")\n",
        "\n",
        "arr = psorted103.copy()\n",
        "%timeit insertionSort(arr)\n",
        "#print(\"Insertion Sorted: \", arr, \"\\n\")\n",
        "\n",
        "arr = psorted103.copy()\n",
        "%timeit quicksort(arr, 0, len(arr) - 1)\n",
        "#print(\"Quick Sorted: \", arr)"
      ]
    },
    {
      "cell_type": "markdown",
      "metadata": {
        "id": "qCFbSGwNO_kV"
      },
      "source": [
        "## Sorting of 10^4 sized arrays"
      ]
    },
    {
      "cell_type": "code",
      "execution_count": 20,
      "metadata": {
        "colab": {
          "base_uri": "https://localhost:8080/",
          "height": 245
        },
        "id": "9LMED_lMO_kV",
        "outputId": "84f153cd-feb5-4334-f85e-3014490cc5fc"
      },
      "outputs": [
        {
          "name": "stdout",
          "output_type": "stream",
          "text": [
            "2.36 ms ± 37.2 µs per loop (mean ± std. dev. of 7 runs, 1 loop each)\n",
            "3.93 ms ± 160 µs per loop (mean ± std. dev. of 7 runs, 1 loop each)\n"
          ]
        },
        {
          "ename": "",
          "evalue": "",
          "output_type": "error",
          "traceback": [
            "\u001b[1;31mThe Kernel crashed while executing code in the the current cell or a previous cell. Please review the code in the cell(s) to identify a possible cause of the failure. Click <a href='https://aka.ms/vscodeJupyterKernelCrash'>here</a> for more info. View Jupyter <a href='command:jupyter.viewOutput'>log</a> for further details."
          ]
        }
      ],
      "source": [
        "import sys\n",
        "sys.setrecursionlimit(10**6)\n",
        "\n",
        "#print(\"Random: \", random104, \"\\n\")\n",
        "\n",
        "arr = random104.copy()\n",
        "%timeit bubbleSort(arr)\n",
        "#print(\"Bubble Sorted: \", arr, \"\\n\")\n",
        "\n",
        "arr = random104.copy()\n",
        "%timeit insertionSort(arr)\n",
        "#print(\"Insertion Sorted: \", arr, \"\\n\")\n",
        "\n",
        "arr = random104.copy()\n",
        "%timeit quicksort(arr, 0, len(arr) - 1)\n",
        "#print(\"Quick Sorted: \", arr)"
      ]
    },
    {
      "cell_type": "code",
      "execution_count": null,
      "metadata": {
        "id": "Qc2oO4sDO_kV"
      },
      "outputs": [],
      "source": [
        "#print(\"Fully Sorted: \", fsorted104, \"\\n\")\n",
        "\n",
        "arr = fsorted104.copy()\n",
        "%timeit bubbleSort(arr)\n",
        "#print(\"Bubble Sorted: \", arr, \"\\n\")\n",
        "\n",
        "arr = fsorted104.copy()\n",
        "%timeit insertionSort(arr)\n",
        "#print(\"Insertion Sorted: \", arr, \"\\n\")\n",
        "\n",
        "arr = fsorted104.copy()\n",
        "%timeit quicksort(arr, 0, len(arr) - 1)\n",
        "#print(\"Quick Sorted: \", arr)"
      ]
    },
    {
      "cell_type": "code",
      "execution_count": null,
      "metadata": {
        "id": "xq3Gz6IzO_kV"
      },
      "outputs": [],
      "source": [
        "#print(\"Reverse Sorted: \", rsorted104, \"\\n\")\n",
        "\n",
        "arr = rsorted104.copy()\n",
        "%timeit bubbleSort(arr)\n",
        "#print(\"Bubble Sorted: \", arr, \"\\n\")\n",
        "\n",
        "arr = rsorted104.copy()\n",
        "%timeit insertionSort(arr)\n",
        "#print(\"Insertion Sorted: \", arr, \"\\n\")\n",
        "\n",
        "arr = rsorted104.copy()\n",
        "%timeit quicksort(arr, 0, len(arr) - 1)\n",
        "#print(\"Quick Sorted: \", arr)"
      ]
    },
    {
      "cell_type": "code",
      "execution_count": null,
      "metadata": {
        "id": "2pemu_XPO_kV"
      },
      "outputs": [],
      "source": [
        "#print(\"Partially Sorted: \", psorted104, \"\\n\")\n",
        "\n",
        "arr = psorted104.copy()\n",
        "%timeit bubbleSort(arr)\n",
        "#print(\"Bubble Sorted: \", arr, \"\\n\")\n",
        "\n",
        "arr = psorted104.copy()\n",
        "%timeit insertionSort(arr)\n",
        "#print(\"Insertion Sorted: \", arr, \"\\n\")\n",
        "\n",
        "arr = psorted104.copy()\n",
        "%timeit quicksort(arr, 0, len(arr) - 1)\n",
        "#print(\"Quick Sorted: \", arr)"
      ]
    },
    {
      "cell_type": "markdown",
      "metadata": {
        "id": "Uw-sIYxtO_kW"
      },
      "source": [
        "## Sorting of 10^5 sized arrays"
      ]
    },
    {
      "cell_type": "code",
      "execution_count": null,
      "metadata": {
        "id": "aEa34-FTO_kW"
      },
      "outputs": [],
      "source": [
        "#print(\"Random: \", random105, \"\\n\")\n",
        "\n",
        "arr = random105.copy()\n",
        "%timeit bubbleSort(arr)\n",
        "#print(\"Bubble Sorted: \", arr, \"\\n\")\n",
        "\n",
        "arr = random105.copy()\n",
        "%timeit insertionSort(arr)\n",
        "#print(\"Insertion Sorted: \", arr, \"\\n\")\n",
        "\n",
        "arr = random105.copy()\n",
        "%timeit quicksort(arr, 0, len(arr) - 1)\n",
        "#print(\"Quick Sorted: \", arr)"
      ]
    },
    {
      "cell_type": "code",
      "execution_count": null,
      "metadata": {
        "id": "KLgJMU6GO_kW"
      },
      "outputs": [],
      "source": [
        "#print(\"Fully Sorted: \", fsorted105, \"\\n\")\n",
        "\n",
        "arr = fsorted105.copy()\n",
        "%timeit bubbleSort(arr)\n",
        "#print(\"Bubble Sorted: \", arr, \"\\n\")\n",
        "\n",
        "arr = fsorted105.copy()\n",
        "%timeit insertionSort(arr)\n",
        "#print(\"Insertion Sorted: \", arr, \"\\n\")\n",
        "\n",
        "arr = fsorted105.copy()\n",
        "%timeit quicksort(arr, 0, len(arr) - 1)\n",
        "#print(\"Quick Sorted: \", arr)"
      ]
    },
    {
      "cell_type": "code",
      "execution_count": null,
      "metadata": {
        "id": "gWmoeprzO_kW"
      },
      "outputs": [],
      "source": [
        "#print(\"Reverse Sorted: \", rsorted105, \"\\n\")\n",
        "\n",
        "arr = rsorted105.copy()\n",
        "%timeit bubbleSort(arr)\n",
        "#print(\"Bubble Sorted: \", arr, \"\\n\")\n",
        "\n",
        "arr = rsorted105.copy()\n",
        "%timeit insertionSort(arr)\n",
        "#print(\"Insertion Sorted: \", arr, \"\\n\")\n",
        "\n",
        "arr = rsorted105.copy()\n",
        "%timeit quicksort(arr, 0, len(arr) - 1)\n",
        "#print(\"Quick Sorted: \", arr)"
      ]
    },
    {
      "cell_type": "code",
      "execution_count": null,
      "metadata": {
        "id": "1ovR1gBkO_kW"
      },
      "outputs": [],
      "source": [
        "#print(\"Partially Sorted: \", psorted105, \"\\n\")\n",
        "\n",
        "arr = psorted105.copy()\n",
        "%timeit bubbleSort(arr)\n",
        "#print(\"Bubble Sorted: \", arr, \"\\n\")\n",
        "\n",
        "arr = psorted105.copy()\n",
        "%timeit insertionSort(arr)\n",
        "#print(\"Insertion Sorted: \", arr, \"\\n\")\n",
        "\n",
        "arr = psorted105.copy()\n",
        "%timeit quicksort(arr, 0, len(arr) - 1)\n",
        "#print(\"Quick Sorted: \", arr)"
      ]
    },
    {
      "cell_type": "code",
      "execution_count": null,
      "metadata": {
        "id": "smfyifTJO_kW"
      },
      "outputs": [],
      "source": []
    }
  ],
  "metadata": {
    "colab": {
      "include_colab_link": true,
      "provenance": [],
      "toc_visible": true
    },
    "kernelspec": {
      "display_name": "Python 3",
      "name": "python3"
    },
    "language_info": {
      "codemirror_mode": {
        "name": "ipython",
        "version": 3
      },
      "file_extension": ".py",
      "mimetype": "text/x-python",
      "name": "python",
      "nbconvert_exporter": "python",
      "pygments_lexer": "ipython3",
      "version": "3.10.13"
    }
  },
  "nbformat": 4,
  "nbformat_minor": 0
}
