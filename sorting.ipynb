{
 "cells": [
  {
   "cell_type": "code",
   "execution_count": 1,
   "metadata": {},
   "outputs": [],
   "source": [
    "import numpy as np"
   ]
  },
  {
   "cell_type": "code",
   "execution_count": 2,
   "metadata": {},
   "outputs": [],
   "source": [
    "random101 = np.random.randint(10**1, size = (10**1))\n",
    "random102 = np.random.randint(10**2, size = (10**2))\n",
    "random103 = np.random.randint(10**3, size = (10**3))\n",
    "random104 = np.random.randint(10**4, size = (10**4))\n",
    "random105 = np.random.randint(10**5, size = (10**5))"
   ]
  },
  {
   "cell_type": "code",
   "execution_count": 3,
   "metadata": {},
   "outputs": [],
   "source": [
    "fsorted101 = np.arange(0,10**1)\n",
    "fsorted102 = np.arange(0,10**2)\n",
    "fsorted103 = np.arange(0,10**3)\n",
    "fsorted104 = np.arange(0,10**4)\n",
    "fsorted105 = np.arange(0,10**5)"
   ]
  },
  {
   "cell_type": "code",
   "execution_count": 4,
   "metadata": {},
   "outputs": [],
   "source": [
    "rsorted101 = np.arange(0,10**1)[::-1]\n",
    "rsorted102 = np.arange(0,10**2)[::-1]\n",
    "rsorted103 = np.arange(0,10**3)[::-1]\n",
    "rsorted104 = np.arange(0,10**4)[::-1]\n",
    "rsorted105 = np.arange(0,10**5)[::-1]"
   ]
  },
  {
   "cell_type": "code",
   "execution_count": 5,
   "metadata": {},
   "outputs": [],
   "source": [
    "psorted101 = np.concatenate((np.arange(0,(10**1-10**0)), np.random.randint(10**1, size = 10**0)))\n",
    "psorted102 = np.concatenate((np.arange(0,(10**2-10**1)), np.random.randint(10**2, size = 10**1)))\n",
    "psorted103 = np.concatenate((np.arange(0,(10**3-10**2)), np.random.randint(10**3, size = 10**2)))\n",
    "psorted104 = np.concatenate((np.arange(0,(10**4-10**3)), np.random.randint(10**4, size = 10**3)))\n",
    "psorted105 = np.concatenate((np.arange(0,(10**5-10**4)), np.random.randint(10**5, size = 10**4)))"
   ]
  },
  {
   "cell_type": "code",
   "execution_count": 6,
   "metadata": {},
   "outputs": [],
   "source": [
    "def bubbleSort(arr):\n",
    "    n = len(arr)\n",
    "     \n",
    "    # Traverse through all array elements\n",
    "    for i in range(n):\n",
    "        swapped = False\n",
    " \n",
    "        # Last i elements are already in place\n",
    "        for j in range(0, n-i-1):\n",
    " \n",
    "            # Traverse the array from 0 to n-i-1\n",
    "            # Swap if the element found is greater\n",
    "            # than the next element\n",
    "            if arr[j] > arr[j+1]:\n",
    "                arr[j], arr[j+1] = arr[j+1], arr[j]\n",
    "                swapped = True\n",
    "        if (swapped == False):\n",
    "            break\n",
    "\n",
    "def insertionSort(arr):\n",
    " \n",
    "    # Traverse through 1 to len(arr)\n",
    "    for i in range(1, len(arr)):\n",
    " \n",
    "        key = arr[i]\n",
    " \n",
    "        # Move elements of arr[0..i-1], that are\n",
    "        # greater than key, to one position ahead\n",
    "        # of their current position\n",
    "        j = i-1\n",
    "        while j >= 0 and key < arr[j] :\n",
    "                arr[j + 1] = arr[j]\n",
    "                j -= 1\n",
    "        arr[j + 1] = key\n",
    "\n",
    "def partition(array, low, high):\n",
    " \n",
    "    # Choose the rightmost element as pivot\n",
    "    pivot = array[high]\n",
    " \n",
    "    # Pointer for greater element\n",
    "    i = low - 1\n",
    " \n",
    "    # Traverse through all elements\n",
    "    # compare each element with pivot\n",
    "    for j in range(low, high):\n",
    "        if array[j] <= pivot:\n",
    " \n",
    "            # If element smaller than pivot is found\n",
    "            # swap it with the greater element pointed by i\n",
    "            i = i + 1\n",
    " \n",
    "            # Swapping element at i with element at j\n",
    "            (array[i], array[j]) = (array[j], array[i])\n",
    " \n",
    "    # Swap the pivot element with\n",
    "    # the greater element specified by i\n",
    "    (array[i + 1], array[high]) = (array[high], array[i + 1])\n",
    " \n",
    "    # Return the position from where partition is done\n",
    "    return i + 1\n",
    " \n",
    "def quicksort(array, low, high):\n",
    "    if low < high:\n",
    " \n",
    "        # Find pivot element such that\n",
    "        # element smaller than pivot are on the left\n",
    "        # element greater than pivot are on the right\n",
    "        pi = partition(array, low, high)\n",
    " \n",
    "        # Recursive call on the left of pivot\n",
    "        quicksort(array, low, pi - 1)\n",
    " \n",
    "        # Recursive call on the right of pivot\n",
    "        quicksort(array, pi + 1, high)"
   ]
  },
  {
   "cell_type": "markdown",
   "metadata": {},
   "source": [
    "## Sorting of 10^1 sized arrays"
   ]
  },
  {
   "cell_type": "code",
   "execution_count": 14,
   "metadata": {},
   "outputs": [
    {
     "name": "stdout",
     "output_type": "stream",
     "text": [
      "Random:  [6 2 0 2 5 1 5 8 7 3] \n",
      "\n",
      "2.91 µs ± 35.8 ns per loop (mean ± std. dev. of 7 runs, 100,000 loops each)\n",
      "Bubble Sorted:  [0 1 2 2 3 5 5 6 7 8] \n",
      "\n",
      "4.03 µs ± 146 ns per loop (mean ± std. dev. of 7 runs, 100,000 loops each)\n",
      "Insertion Sorted:  [0 1 2 2 3 5 5 6 7 8] \n",
      "\n",
      "33.8 µs ± 566 ns per loop (mean ± std. dev. of 7 runs, 10,000 loops each)\n",
      "Quick Sorted:  [0 1 2 2 3 5 5 6 7 8]\n"
     ]
    }
   ],
   "source": [
    "print(\"Random: \", random101, \"\\n\")\n",
    "\n",
    "arr = random101.copy()\n",
    "%timeit bubbleSort(arr)\n",
    "print(\"Bubble Sorted: \", arr, \"\\n\")\n",
    "\n",
    "arr = random101.copy()\n",
    "%timeit insertionSort(arr)\n",
    "print(\"Insertion Sorted: \", arr, \"\\n\")\n",
    "\n",
    "arr = random101.copy()\n",
    "%timeit quicksort(arr, 0, len(arr) - 1)\n",
    "print(\"Quick Sorted: \", arr)"
   ]
  },
  {
   "cell_type": "code",
   "execution_count": 15,
   "metadata": {},
   "outputs": [
    {
     "name": "stdout",
     "output_type": "stream",
     "text": [
      "Fully Sorted:  [0 1 2 3 4 5 6 7 8 9] \n",
      "\n",
      "2.87 µs ± 63.3 ns per loop (mean ± std. dev. of 7 runs, 100,000 loops each)\n",
      "Bubble Sorted:  [0 1 2 3 4 5 6 7 8 9] \n",
      "\n",
      "3.98 µs ± 36.3 ns per loop (mean ± std. dev. of 7 runs, 100,000 loops each)\n",
      "Insertion Sorted:  [0 1 2 3 4 5 6 7 8 9] \n",
      "\n",
      "34.5 µs ± 309 ns per loop (mean ± std. dev. of 7 runs, 10,000 loops each)\n",
      "Quick Sorted:  [0 1 2 3 4 5 6 7 8 9]\n"
     ]
    }
   ],
   "source": [
    "print(\"Fully Sorted: \", fsorted101, \"\\n\")\n",
    "\n",
    "arr = fsorted101.copy()\n",
    "%timeit bubbleSort(arr)\n",
    "print(\"Bubble Sorted: \", arr, \"\\n\")\n",
    "\n",
    "arr = fsorted101.copy()\n",
    "%timeit insertionSort(arr)\n",
    "print(\"Insertion Sorted: \", arr, \"\\n\")\n",
    "\n",
    "arr = fsorted101.copy()\n",
    "%timeit quicksort(arr, 0, len(arr) - 1)\n",
    "print(\"Quick Sorted: \", arr)"
   ]
  },
  {
   "cell_type": "code",
   "execution_count": 16,
   "metadata": {},
   "outputs": [
    {
     "name": "stdout",
     "output_type": "stream",
     "text": [
      "Reverse Sorted:  [9 8 7 6 5 4 3 2 1 0] \n",
      "\n",
      "2.89 µs ± 13.3 ns per loop (mean ± std. dev. of 7 runs, 100,000 loops each)\n",
      "Bubble Sorted:  [0 1 2 3 4 5 6 7 8 9] \n",
      "\n",
      "3.98 µs ± 52.7 ns per loop (mean ± std. dev. of 7 runs, 100,000 loops each)\n",
      "Insertion Sorted:  [0 1 2 3 4 5 6 7 8 9] \n",
      "\n",
      "34.4 µs ± 168 ns per loop (mean ± std. dev. of 7 runs, 10,000 loops each)\n",
      "Quick Sorted:  [0 1 2 3 4 5 6 7 8 9]\n"
     ]
    }
   ],
   "source": [
    "print(\"Reverse Sorted: \", rsorted101, \"\\n\")\n",
    "\n",
    "arr = rsorted101.copy()\n",
    "%timeit bubbleSort(arr)\n",
    "print(\"Bubble Sorted: \", arr, \"\\n\")\n",
    "\n",
    "arr = rsorted101.copy()\n",
    "%timeit insertionSort(arr)\n",
    "print(\"Insertion Sorted: \", arr, \"\\n\")\n",
    "\n",
    "arr = rsorted101.copy()\n",
    "%timeit quicksort(arr, 0, len(arr) - 1)\n",
    "print(\"Quick Sorted: \", arr)"
   ]
  },
  {
   "cell_type": "code",
   "execution_count": 17,
   "metadata": {},
   "outputs": [
    {
     "name": "stdout",
     "output_type": "stream",
     "text": [
      "Partially Sorted:  [0 1 2 3 4 5 6 7 8 1] \n",
      "\n",
      "2.84 µs ± 29.9 ns per loop (mean ± std. dev. of 7 runs, 100,000 loops each)\n",
      "Bubble Sorted:  [0 1 1 2 3 4 5 6 7 8] \n",
      "\n",
      "3.92 µs ± 19.6 ns per loop (mean ± std. dev. of 7 runs, 100,000 loops each)\n",
      "Insertion Sorted:  [0 1 1 2 3 4 5 6 7 8] \n",
      "\n",
      "34.8 µs ± 325 ns per loop (mean ± std. dev. of 7 runs, 10,000 loops each)\n",
      "Quick Sorted:  [0 1 1 2 3 4 5 6 7 8]\n"
     ]
    }
   ],
   "source": [
    "print(\"Partially Sorted: \", psorted101, \"\\n\")\n",
    "\n",
    "arr = psorted101.copy()\n",
    "%timeit bubbleSort(arr)\n",
    "print(\"Bubble Sorted: \", arr, \"\\n\")\n",
    "\n",
    "arr = psorted101.copy()\n",
    "%timeit insertionSort(arr)\n",
    "print(\"Insertion Sorted: \", arr, \"\\n\")\n",
    "\n",
    "arr = psorted101.copy()\n",
    "%timeit quicksort(arr, 0, len(arr) - 1)\n",
    "print(\"Quick Sorted: \", arr)"
   ]
  },
  {
   "cell_type": "markdown",
   "metadata": {},
   "source": [
    "## Sorting of 10^2 sized arrays"
   ]
  },
  {
   "cell_type": "code",
   "execution_count": 18,
   "metadata": {},
   "outputs": [
    {
     "name": "stdout",
     "output_type": "stream",
     "text": [
      "24.2 µs ± 181 ns per loop (mean ± std. dev. of 7 runs, 10,000 loops each)\n",
      "38.3 µs ± 500 ns per loop (mean ± std. dev. of 7 runs, 10,000 loops each)\n",
      "2.59 ms ± 26 µs per loop (mean ± std. dev. of 7 runs, 100 loops each)\n"
     ]
    }
   ],
   "source": [
    "#print(\"Random: \", random102, \"\\n\")\n",
    "\n",
    "arr = random102.copy()\n",
    "%timeit bubbleSort(arr)\n",
    "#print(\"Bubble Sorted: \", arr, \"\\n\")\n",
    "\n",
    "arr = random102.copy()\n",
    "%timeit insertionSort(arr)\n",
    "#print(\"Insertion Sorted: \", arr, \"\\n\")\n",
    "\n",
    "arr = random102.copy()\n",
    "%timeit quicksort(arr, 0, len(arr) - 1)\n",
    "#print(\"Quick Sorted: \", arr)"
   ]
  },
  {
   "cell_type": "code",
   "execution_count": 19,
   "metadata": {},
   "outputs": [
    {
     "name": "stdout",
     "output_type": "stream",
     "text": [
      "24.5 µs ± 318 ns per loop (mean ± std. dev. of 7 runs, 10,000 loops each)\n",
      "38.9 µs ± 126 ns per loop (mean ± std. dev. of 7 runs, 10,000 loops each)\n",
      "2.56 ms ± 17.3 µs per loop (mean ± std. dev. of 7 runs, 100 loops each)\n"
     ]
    }
   ],
   "source": [
    "#print(\"Fully Sorted: \", fsorted102, \"\\n\")\n",
    "\n",
    "arr = fsorted102.copy()\n",
    "%timeit bubbleSort(arr)\n",
    "#print(\"Bubble Sorted: \", arr, \"\\n\")\n",
    "\n",
    "arr = fsorted102.copy()\n",
    "%timeit insertionSort(arr)\n",
    "#print(\"Insertion Sorted: \", arr, \"\\n\")\n",
    "\n",
    "arr = fsorted102.copy()\n",
    "%timeit quicksort(arr, 0, len(arr) - 1)\n",
    "#print(\"Quick Sorted: \", arr)"
   ]
  },
  {
   "cell_type": "code",
   "execution_count": 20,
   "metadata": {},
   "outputs": [
    {
     "name": "stdout",
     "output_type": "stream",
     "text": [
      "24.2 µs ± 441 ns per loop (mean ± std. dev. of 7 runs, 10,000 loops each)\n",
      "38.6 µs ± 295 ns per loop (mean ± std. dev. of 7 runs, 10,000 loops each)\n",
      "2.62 ms ± 22.4 µs per loop (mean ± std. dev. of 7 runs, 100 loops each)\n"
     ]
    }
   ],
   "source": [
    "#print(\"Reverse Sorted: \", rsorted102, \"\\n\")\n",
    "\n",
    "arr = rsorted102.copy()\n",
    "%timeit bubbleSort(arr)\n",
    "#print(\"Bubble Sorted: \", arr, \"\\n\")\n",
    "\n",
    "arr = rsorted102.copy()\n",
    "%timeit insertionSort(arr)\n",
    "#print(\"Insertion Sorted: \", arr, \"\\n\")\n",
    "\n",
    "arr = rsorted102.copy()\n",
    "%timeit quicksort(arr, 0, len(arr) - 1)\n",
    "#print(\"Quick Sorted: \", arr)"
   ]
  },
  {
   "cell_type": "code",
   "execution_count": 21,
   "metadata": {},
   "outputs": [
    {
     "name": "stdout",
     "output_type": "stream",
     "text": [
      "24 µs ± 129 ns per loop (mean ± std. dev. of 7 runs, 10,000 loops each)\n",
      "37.9 µs ± 304 ns per loop (mean ± std. dev. of 7 runs, 10,000 loops each)\n",
      "2.63 ms ± 14.8 µs per loop (mean ± std. dev. of 7 runs, 100 loops each)\n"
     ]
    }
   ],
   "source": [
    "#print(\"Partially Sorted: \", psorted102, \"\\n\")\n",
    "\n",
    "arr = psorted102.copy()\n",
    "%timeit bubbleSort(arr)\n",
    "#print(\"Bubble Sorted: \", arr, \"\\n\")\n",
    "\n",
    "arr = psorted102.copy()\n",
    "%timeit insertionSort(arr)\n",
    "#print(\"Insertion Sorted: \", arr, \"\\n\")\n",
    "\n",
    "arr = psorted102.copy()\n",
    "%timeit quicksort(arr, 0, len(arr) - 1)\n",
    "#print(\"Quick Sorted: \", arr)"
   ]
  },
  {
   "cell_type": "markdown",
   "metadata": {},
   "source": [
    "## Sorting of 10^3 sized arrays"
   ]
  },
  {
   "cell_type": "code",
   "execution_count": 22,
   "metadata": {},
   "outputs": [
    {
     "name": "stdout",
     "output_type": "stream",
     "text": [
      "239 µs ± 2.6 µs per loop (mean ± std. dev. of 7 runs, 1 loop each)\n",
      "407 µs ± 7.37 µs per loop (mean ± std. dev. of 7 runs, 1,000 loops each)\n",
      "253 ms ± 3.7 ms per loop (mean ± std. dev. of 7 runs, 10 loops each)\n"
     ]
    }
   ],
   "source": [
    "#print(\"Random: \", random103, \"\\n\")\n",
    "\n",
    "arr = random103.copy()\n",
    "%timeit bubbleSort(arr)\n",
    "#print(\"Bubble Sorted: \", arr, \"\\n\")\n",
    "\n",
    "arr = random103.copy()\n",
    "%timeit insertionSort(arr)\n",
    "#print(\"Insertion Sorted: \", arr, \"\\n\")\n",
    "\n",
    "arr = random103.copy()\n",
    "%timeit quicksort(arr, 0, len(arr) - 1)\n",
    "#print(\"Quick Sorted: \", arr)"
   ]
  },
  {
   "cell_type": "code",
   "execution_count": 24,
   "metadata": {},
   "outputs": [
    {
     "name": "stdout",
     "output_type": "stream",
     "text": [
      "248 µs ± 2.82 µs per loop (mean ± std. dev. of 7 runs, 1,000 loops each)\n",
      "409 µs ± 3.66 µs per loop (mean ± std. dev. of 7 runs, 1,000 loops each)\n",
      "254 ms ± 3.11 ms per loop (mean ± std. dev. of 7 runs, 1 loop each)\n"
     ]
    }
   ],
   "source": [
    "#print(\"Fully Sorted: \", fsorted103, \"\\n\")\n",
    "\n",
    "arr = fsorted103.copy()\n",
    "%timeit bubbleSort(arr)\n",
    "#print(\"Bubble Sorted: \", arr, \"\\n\")\n",
    "\n",
    "arr = fsorted103.copy()\n",
    "%timeit insertionSort(arr)\n",
    "#print(\"Insertion Sorted: \", arr, \"\\n\")\n",
    "\n",
    "arr = fsorted103.copy()\n",
    "%timeit quicksort(arr, 0, len(arr) - 1)\n",
    "#print(\"Quick Sorted: \", arr)"
   ]
  },
  {
   "cell_type": "code",
   "execution_count": 25,
   "metadata": {},
   "outputs": [
    {
     "name": "stdout",
     "output_type": "stream",
     "text": [
      "268 µs ± 41.8 µs per loop (mean ± std. dev. of 7 runs, 1 loop each)\n",
      "412 µs ± 3.38 µs per loop (mean ± std. dev. of 7 runs, 1,000 loops each)\n",
      "251 ms ± 1.73 ms per loop (mean ± std. dev. of 7 runs, 10 loops each)\n"
     ]
    }
   ],
   "source": [
    "#print(\"Reverse Sorted: \", rsorted103, \"\\n\")\n",
    "\n",
    "arr = rsorted103.copy()\n",
    "%timeit bubbleSort(arr)\n",
    "#print(\"Bubble Sorted: \", arr, \"\\n\")\n",
    "\n",
    "arr = rsorted103.copy()\n",
    "%timeit insertionSort(arr)\n",
    "#print(\"Insertion Sorted: \", arr, \"\\n\")\n",
    "\n",
    "arr = rsorted103.copy()\n",
    "%timeit quicksort(arr, 0, len(arr) - 1)\n",
    "#print(\"Quick Sorted: \", arr)"
   ]
  },
  {
   "cell_type": "code",
   "execution_count": 26,
   "metadata": {},
   "outputs": [
    {
     "name": "stdout",
     "output_type": "stream",
     "text": [
      "244 µs ± 1.48 µs per loop (mean ± std. dev. of 7 runs, 1,000 loops each)\n",
      "404 µs ± 3.1 µs per loop (mean ± std. dev. of 7 runs, 1,000 loops each)\n",
      "250 ms ± 4.32 ms per loop (mean ± std. dev. of 7 runs, 10 loops each)\n"
     ]
    }
   ],
   "source": [
    "#print(\"Partially Sorted: \", psorted103, \"\\n\")\n",
    "\n",
    "arr = psorted103.copy()\n",
    "%timeit bubbleSort(arr)\n",
    "#print(\"Bubble Sorted: \", arr, \"\\n\")\n",
    "\n",
    "arr = psorted103.copy()\n",
    "%timeit insertionSort(arr)\n",
    "#print(\"Insertion Sorted: \", arr, \"\\n\")\n",
    "\n",
    "arr = psorted103.copy()\n",
    "%timeit quicksort(arr, 0, len(arr) - 1)\n",
    "#print(\"Quick Sorted: \", arr)"
   ]
  },
  {
   "cell_type": "markdown",
   "metadata": {},
   "source": [
    "## Sorting of 10^4 sized arrays"
   ]
  },
  {
   "cell_type": "code",
   "execution_count": 7,
   "metadata": {},
   "outputs": [
    {
     "name": "stdout",
     "output_type": "stream",
     "text": [
      "CPU times: total: 22.1 s\n",
      "Wall time: 22.6 s\n",
      "CPU times: total: 9.47 s\n",
      "Wall time: 9.78 s\n",
      "CPU times: total: 62.5 ms\n",
      "Wall time: 62 ms\n"
     ]
    }
   ],
   "source": [
    "#print(\"Random: \", random104, \"\\n\")\n",
    "\n",
    "arr = random104.copy()\n",
    "%timeit bubbleSort(arr)\n",
    "#print(\"Bubble Sorted: \", arr, \"\\n\")\n",
    "\n",
    "arr = random104.copy()\n",
    "%timeit insertionSort(arr)\n",
    "#print(\"Insertion Sorted: \", arr, \"\\n\")\n",
    "\n",
    "arr = random104.copy()\n",
    "%timeit quicksort(arr, 0, len(arr) - 1)\n",
    "#print(\"Quick Sorted: \", arr)"
   ]
  },
  {
   "cell_type": "code",
   "execution_count": 7,
   "metadata": {},
   "outputs": [
    {
     "name": "stdout",
     "output_type": "stream",
     "text": [
      "2.4 ms ± 21.3 µs per loop (mean ± std. dev. of 7 runs, 100 loops each)\n",
      "4.18 ms ± 101 µs per loop (mean ± std. dev. of 7 runs, 100 loops each)\n"
     ]
    },
    {
     "ename": "",
     "evalue": "",
     "output_type": "error",
     "traceback": [
      "\u001b[1;31mThe Kernel crashed while executing code in the the current cell or a previous cell. Please review the code in the cell(s) to identify a possible cause of the failure. Click <a href='https://aka.ms/vscodeJupyterKernelCrash'>here</a> for more info. View Jupyter <a href='command:jupyter.viewOutput'>log</a> for further details."
     ]
    }
   ],
   "source": [
    "#print(\"Fully Sorted: \", fsorted104, \"\\n\")\n",
    "\n",
    "arr = fsorted104.copy()\n",
    "%timeit bubbleSort(arr)\n",
    "#print(\"Bubble Sorted: \", arr, \"\\n\")\n",
    "\n",
    "arr = fsorted104.copy()\n",
    "%timeit insertionSort(arr)\n",
    "#print(\"Insertion Sorted: \", arr, \"\\n\")\n",
    "\n",
    "arr = fsorted104.copy()\n",
    "%timeit quicksort(arr, 0, len(arr) - 1)\n",
    "#print(\"Quick Sorted: \", arr)"
   ]
  },
  {
   "cell_type": "code",
   "execution_count": null,
   "metadata": {},
   "outputs": [
    {
     "name": "stdout",
     "output_type": "stream",
     "text": [
      "1.44 ms ± 42.6 µs per loop (mean ± std. dev. of 7 runs, 1 loop each)\n",
      "2.44 ms ± 90 µs per loop (mean ± std. dev. of 7 runs, 1 loop each)\n",
      "19.6 µs ± 80.5 ns per loop (mean ± std. dev. of 7 runs, 100,000 loops each)\n"
     ]
    }
   ],
   "source": [
    "#print(\"Reverse Sorted: \", rsorted104, \"\\n\")\n",
    "\n",
    "arr = rsorted104.copy()\n",
    "%timeit bubbleSort(arr)\n",
    "#print(\"Bubble Sorted: \", arr, \"\\n\")\n",
    "\n",
    "arr = rsorted104.copy()\n",
    "%timeit insertionSort(arr)\n",
    "#print(\"Insertion Sorted: \", arr, \"\\n\")\n",
    "\n",
    "arr = rsorted104.copy()\n",
    "%timeit quicksort(arr, 0, len(arr) - 1)\n",
    "#print(\"Quick Sorted: \", arr)"
   ]
  },
  {
   "cell_type": "code",
   "execution_count": null,
   "metadata": {},
   "outputs": [
    {
     "name": "stdout",
     "output_type": "stream",
     "text": [
      "1.45 ms ± 24.9 µs per loop (mean ± std. dev. of 7 runs, 1 loop each)\n",
      "2.39 ms ± 35.3 µs per loop (mean ± std. dev. of 7 runs, 1 loop each)\n",
      "20.1 µs ± 759 ns per loop (mean ± std. dev. of 7 runs, 10,000 loops each)\n"
     ]
    }
   ],
   "source": [
    "#print(\"Partially Sorted: \", psorted104, \"\\n\")\n",
    "\n",
    "arr = psorted104.copy()\n",
    "%timeit bubbleSort(arr)\n",
    "#print(\"Bubble Sorted: \", arr, \"\\n\")\n",
    "\n",
    "arr = psorted104.copy()\n",
    "%timeit insertionSort(arr)\n",
    "#print(\"Insertion Sorted: \", arr, \"\\n\")\n",
    "\n",
    "arr = psorted104.copy()\n",
    "%timeit quicksort(arr, 0, len(arr) - 1)\n",
    "#print(\"Quick Sorted: \", arr)"
   ]
  },
  {
   "cell_type": "markdown",
   "metadata": {},
   "source": [
    "## Sorting of 10^5 sized arrays"
   ]
  },
  {
   "cell_type": "code",
   "execution_count": 8,
   "metadata": {},
   "outputs": [],
   "source": [
    "#print(\"Random: \", random105, \"\\n\")\n",
    "\n",
    "arr = random105.copy()\n",
    "%timeit bubbleSort(arr)\n",
    "#print(\"Bubble Sorted: \", arr, \"\\n\")\n",
    "\n",
    "arr = random105.copy()\n",
    "%timeit insertionSort(arr)\n",
    "#print(\"Insertion Sorted: \", arr, \"\\n\")\n",
    "\n",
    "arr = random105.copy()\n",
    "%timeit quicksort(arr, 0, len(arr) - 1)\n",
    "#print(\"Quick Sorted: \", arr)"
   ]
  },
  {
   "cell_type": "code",
   "execution_count": null,
   "metadata": {},
   "outputs": [],
   "source": [
    "#print(\"Fully Sorted: \", fsorted105, \"\\n\")\n",
    "\n",
    "arr = fsorted105.copy()\n",
    "%timeit bubbleSort(arr)\n",
    "#print(\"Bubble Sorted: \", arr, \"\\n\")\n",
    "\n",
    "arr = fsorted105.copy()\n",
    "%timeit insertionSort(arr)\n",
    "#print(\"Insertion Sorted: \", arr, \"\\n\")\n",
    "\n",
    "arr = fsorted105.copy()\n",
    "%timeit quicksort(arr, 0, len(arr) - 1)\n",
    "#print(\"Quick Sorted: \", arr)"
   ]
  },
  {
   "cell_type": "code",
   "execution_count": null,
   "metadata": {},
   "outputs": [],
   "source": [
    "#print(\"Reverse Sorted: \", rsorted105, \"\\n\")\n",
    "\n",
    "arr = rsorted105.copy()\n",
    "%timeit bubbleSort(arr)\n",
    "#print(\"Bubble Sorted: \", arr, \"\\n\")\n",
    "\n",
    "arr = rsorted105.copy()\n",
    "%timeit insertionSort(arr)\n",
    "#print(\"Insertion Sorted: \", arr, \"\\n\")\n",
    "\n",
    "arr = rsorted105.copy()\n",
    "%timeit quicksort(arr, 0, len(arr) - 1)\n",
    "#print(\"Quick Sorted: \", arr)"
   ]
  },
  {
   "cell_type": "code",
   "execution_count": null,
   "metadata": {},
   "outputs": [],
   "source": [
    "#print(\"Partially Sorted: \", psorted105, \"\\n\")\n",
    "\n",
    "arr = psorted105.copy()\n",
    "%timeit bubbleSort(arr)\n",
    "#print(\"Bubble Sorted: \", arr, \"\\n\")\n",
    "\n",
    "arr = psorted105.copy()\n",
    "%timeit insertionSort(arr)\n",
    "#print(\"Insertion Sorted: \", arr, \"\\n\")\n",
    "\n",
    "arr = psorted105.copy()\n",
    "%timeit quicksort(arr, 0, len(arr) - 1)\n",
    "#print(\"Quick Sorted: \", arr)"
   ]
  },
  {
   "cell_type": "code",
   "execution_count": null,
   "metadata": {},
   "outputs": [],
   "source": []
  }
 ],
 "metadata": {
  "kernelspec": {
   "display_name": "base",
   "language": "python",
   "name": "python3"
  },
  "language_info": {
   "codemirror_mode": {
    "name": "ipython",
    "version": 3
   },
   "file_extension": ".py",
   "mimetype": "text/x-python",
   "name": "python",
   "nbconvert_exporter": "python",
   "pygments_lexer": "ipython3",
   "version": "3.11.3"
  }
 },
 "nbformat": 4,
 "nbformat_minor": 2
}
